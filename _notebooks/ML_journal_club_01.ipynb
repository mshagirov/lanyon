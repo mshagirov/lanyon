{
  "nbformat": 4,
  "nbformat_minor": 0,
  "metadata": {
    "colab": {
      "name": "ML_journal_club_01.ipynb",
      "provenance": [],
      "collapsed_sections": [],
      "authorship_tag": "ABX9TyNTf1VDscErtk+yfSZTYGZU",
      "include_colab_link": true
    },
    "kernelspec": {
      "name": "python3",
      "display_name": "Python 3"
    },
    "accelerator": "GPU"
  },
  "cells": [
    {
      "cell_type": "markdown",
      "metadata": {
        "id": "view-in-github",
        "colab_type": "text"
      },
      "source": [
        "<a href=\"https://colab.research.google.com/github/mshagirov/mshagirov.github.io/blob/master/_notebooks/ML_journal_club_01.ipynb\" target=\"_parent\"><img src=\"https://colab.research.google.com/assets/colab-badge.svg\" alt=\"Open In Colab\"/></a>"
      ]
    },
    {
      "cell_type": "markdown",
      "metadata": {
        "id": "p52Mioie5pOd",
        "colab_type": "text"
      },
      "source": [
        "# MNIST HANDWRITTEN DIGIT CLASSIFICATION WITH PYTORCH"
      ]
    },
    {
      "cell_type": "markdown",
      "metadata": {
        "id": "hlnlRiJNz0hq",
        "colab_type": "text"
      },
      "source": [
        "This notebook follows [`TORCH.NN`](https://pytorch.org/tutorials/beginner/nn_tutorial.html) tutorial. If you are not familiar with `PyTorch`, you can read \"[What is PyTorch?](https://pytorch.org/tutorials/beginner/deep_learning_60min_blitz.html)\" and \"[Autograd](https://pytorch.org/tutorials/beginner/blitz/autograd_tutorial.html#sphx-glr-beginner-blitz-autograd-tutorial-py)\" tutorials from \"[Deep Learning with PyTorch: a 60 Minute Blitz](https://pytorch.org/tutorials/beginner/deep_learning_60min_blitz.html)\" to get a quick overview of PyTorch.\n",
        "\n",
        "---\n",
        "\n",
        "\n",
        "\n"
      ]
    },
    {
      "cell_type": "markdown",
      "metadata": {
        "id": "BwCPsLuT75d3",
        "colab_type": "text"
      },
      "source": [
        "It is assumed that you are either running this notebook in Google [colab](https://colab.research.google.com/github/mshagirov/mshagirov.github.io/blob/master/_notebooks/ML_journal_club_01.ipynb), or you have already downloaded and locally installed [`pytorch`](https://pytorch.org/get-started/locally/) and all other required packaged to run this notebook on your computer (as long as you have `pytorch`, you can install other packages as you go along).\n",
        "\n",
        "\n",
        "**Additional resources**:\n",
        "- \"Deep Learning\" course: course notes with `PyTorch` codes (Alfredo Canziani, NYU) [[website](https://atcold.github.io/pytorch-Deep-Learning/)] [[notebooks](https://github.com/Atcold/pytorch-Deep-Learning)]\n",
        "- \"Practical Deep Learning for Coders v3\": deep NN models are implemented in `PyTorch` (`fast.ai`) [[website](https://course.fast.ai)]\n"
      ]
    },
    {
      "cell_type": "code",
      "metadata": {
        "id": "6WXHYbvZtUGs",
        "colab_type": "code",
        "colab": {}
      },
      "source": [
        "import torch\n",
        "import numpy as np\n",
        "import matplotlib.pyplot as plt"
      ],
      "execution_count": 0,
      "outputs": []
    },
    {
      "cell_type": "markdown",
      "metadata": {
        "id": "EQ3rdhSPbmPv",
        "colab_type": "text"
      },
      "source": [
        "Check for CUDA-enabled GPUs, or else use CPU:"
      ]
    },
    {
      "cell_type": "code",
      "metadata": {
        "id": "LCEACAVza2Sj",
        "colab_type": "code",
        "colab": {
          "base_uri": "https://localhost:8080/",
          "height": 34
        },
        "outputId": "9a40f891-85f9-4011-a594-20f7b23dfe44"
      },
      "source": [
        "if torch.cuda.is_available():\n",
        "  device = torch.device('cuda')\n",
        "else:\n",
        "  device = torch.device(\"cpu\")\n",
        "print(f'Available device: {device}')"
      ],
      "execution_count": 2,
      "outputs": [
        {
          "output_type": "stream",
          "text": [
            "Available device: cuda\n"
          ],
          "name": "stdout"
        }
      ]
    },
    {
      "cell_type": "markdown",
      "metadata": {
        "id": "X-dCe_hl4_5p",
        "colab_type": "text"
      },
      "source": [
        "## Download and Import the Datasets"
      ]
    },
    {
      "cell_type": "code",
      "metadata": {
        "id": "_8BG3qd8uOBP",
        "colab_type": "code",
        "colab": {}
      },
      "source": [
        "from pathlib import Path\n",
        "import requests\n",
        "\n",
        "DATA_PATH = Path(\"data\")\n",
        "PATH = DATA_PATH / \"mnist\"\n",
        "\n",
        "PATH.mkdir(parents=True, exist_ok=True)\n",
        "\n",
        "URL = \"http://deeplearning.net/data/mnist/\"\n",
        "FILENAME = \"mnist.pkl.gz\"\n",
        "\n",
        "if not (PATH / FILENAME).exists():\n",
        "        content = requests.get(URL + FILENAME).content\n",
        "        (PATH / FILENAME).open(\"wb\").write(content)"
      ],
      "execution_count": 0,
      "outputs": []
    },
    {
      "cell_type": "code",
      "metadata": {
        "id": "7GTN9nCrx3s_",
        "colab_type": "code",
        "outputId": "44f566ea-507b-4648-e7ba-bbe3638a6bcc",
        "colab": {
          "base_uri": "https://localhost:8080/",
          "height": 153
        }
      },
      "source": [
        "# Training and testing datasets\n",
        "import pickle\n",
        "import gzip\n",
        "\n",
        "with gzip.open((PATH / FILENAME).as_posix(), \"rb\") as f:\n",
        "        ((x_train, y_train), (x_valid, y_valid), _) = pickle.load(f, encoding=\"latin-1\")\n",
        "\n",
        "# Comvert to torch tensor\n",
        "x_train, y_train, x_valid, y_valid = map(\n",
        "    torch.tensor, (x_train, y_train, x_valid, y_valid)\n",
        ")\n",
        "\n",
        "print(f'Training set\\n# samples : {x_train.shape[0]}\\nx shape : {x_train.shape}',\n",
        "      f'\\ny shape : {y_train.shape}')\n",
        "print(f'\\nValidation set\\n# samples : {x_valid.shape[0]}\\nx shape : {x_valid.shape}')"
      ],
      "execution_count": 4,
      "outputs": [
        {
          "output_type": "stream",
          "text": [
            "Training set\n",
            "# samples : 50000\n",
            "x shape : torch.Size([50000, 784]) \n",
            "y shape : torch.Size([50000])\n",
            "\n",
            "Validation set\n",
            "# samples : 10000\n",
            "x shape : torch.Size([10000, 784])\n"
          ],
          "name": "stdout"
        }
      ]
    },
    {
      "cell_type": "markdown",
      "metadata": {
        "id": "U8tk4ykps7px",
        "colab_type": "text"
      },
      "source": [
        "## Display MNIST Samples from \"Training\" and \"Validation\" Datasets"
      ]
    },
    {
      "cell_type": "markdown",
      "metadata": {
        "id": "_ZycfVz6vo-K",
        "colab_type": "text"
      },
      "source": [
        "* Let's plot some randomly selected examples"
      ]
    },
    {
      "cell_type": "code",
      "metadata": {
        "id": "NNDCP6vQ2p0q",
        "colab_type": "code",
        "outputId": "417abc64-3bb5-45b1-ee78-514ad9613144",
        "colab": {
          "base_uri": "https://localhost:8080/",
          "height": 54
        }
      },
      "source": [
        "np.random.seed(42)\n",
        "sample_ids = np.random.randint(x_valid.shape[0],size=(5,))\n",
        "print(f'We will plot samples {sample_ids} from \"training\" and \"validation\" datasets.')"
      ],
      "execution_count": 5,
      "outputs": [
        {
          "output_type": "stream",
          "text": [
            "We will plot samples [7270  860 5390 5191 5734] from \"training\" and \"validation\" datasets.\n"
          ],
          "name": "stdout"
        }
      ]
    },
    {
      "cell_type": "code",
      "metadata": {
        "id": "Pjjlsruu18JU",
        "colab_type": "code",
        "outputId": "392221bb-4fce-4db9-90bd-d81c608815d5",
        "colab": {
          "base_uri": "https://localhost:8080/",
          "height": 133
        }
      },
      "source": [
        "_, axs = plt.subplots(ncols=5,figsize=[7,2])\n",
        "\n",
        "for ax,t in zip(axs,sample_ids):\n",
        "  ax.imshow(x_train[t,:].reshape(28,28),cmap='gray')\n",
        "  ax.set_title(f'Label : {y_train[t]}')\n",
        "  ax.axis(False)\n",
        "plt.suptitle(f'Training dataset (\"x_train\")');\n",
        "plt.show()"
      ],
      "execution_count": 6,
      "outputs": [
        {
          "output_type": "display_data",
          "data": {
            "image/png": "[encoded data removed]",
            "text/plain": [
              "<Figure size 504x144 with 5 Axes>"
            ]
          },
          "metadata": {
            "tags": [],
            "needs_background": "light"
          }
        }
      ]
    },
    {
      "cell_type": "code",
      "metadata": {
        "id": "rDG_sl-708Aq",
        "colab_type": "code",
        "outputId": "d5066920-473e-4961-ed95-39f23a93778d",
        "colab": {
          "base_uri": "https://localhost:8080/",
          "height": 133
        }
      },
      "source": [
        "_, axs = plt.subplots(ncols=5,figsize=[7,2])\n",
        "\n",
        "for ax,t in zip(axs,sample_ids):\n",
        "  ax.imshow(x_valid[t,:].reshape(28,28),cmap='gray')\n",
        "  ax.set_title(f'Label : {y_valid[t]}')\n",
        "  ax.axis(False)\n",
        "plt.suptitle('Validation dataset (\"x_valid\")');\n",
        "plt.show()"
      ],
      "execution_count": 7,
      "outputs": [
        {
          "output_type": "display_data",
          "data": {
            "image/png": "[encoded data removed]",
            "text/plain": [
              "<Figure size 504x144 with 5 Axes>"
            ]
          },
          "metadata": {
            "tags": [],
            "needs_background": "light"
          }
        }
      ]
    },
    {
      "cell_type": "markdown",
      "metadata": {
        "id": "I5ce7GS_FjkH",
        "colab_type": "text"
      },
      "source": [
        "## Converting Labels to One-hot Encoding in Pytorch\n",
        "\n",
        "Although some loss functions can handle labels in their raw form (e.g. $y_i$ = \"1\"), in its general form multiclass classifier requires us to encode target labels (those we provide during the training) into one-hot encoding format. In pytorch, we can use `scatter` function for one-hot encoding MNIST labels.\n",
        "- Technically, all loss functions internally have to represent target and predicted labels as one-hot encoded vectors.\n",
        "- E.g. one-hot encoded labels for digits \"1\" and \"5\" are as follows\n",
        "  - \"1\": `[0, 1, 0, 0, 0, 0, 0, 0, 0, 0]`, and \n",
        "  - \"5\": `[0, 0, 0, 0, 0, 1, 0, 0, 0, 0]`"
      ]
    },
    {
      "cell_type": "code",
      "metadata": {
        "id": "VSE7FQE3CaBd",
        "colab_type": "code",
        "outputId": "e80270c3-f7dd-44d8-8b43-0f80f537019d",
        "colab": {
          "base_uri": "https://localhost:8080/",
          "height": 51
        }
      },
      "source": [
        "y_hot = torch.FloatTensor(2,10) # initialise batch labels (done once outside the for-loop)\n",
        "y_hot.zero_() # set them to zero (for each iter-n)\n",
        "y_hot.scatter_(1,torch.tensor([[1],[4]]),1) # encode labels \"1\" and \"4\"\n",
        "y_hot"
      ],
      "execution_count": 8,
      "outputs": [
        {
          "output_type": "execute_result",
          "data": {
            "text/plain": [
              "tensor([[0., 1., 0., 0., 0., 0., 0., 0., 0., 0.],\n",
              "        [0., 0., 0., 0., 1., 0., 0., 0., 0., 0.]])"
            ]
          },
          "metadata": {
            "tags": []
          },
          "execution_count": 8
        }
      ]
    },
    {
      "cell_type": "code",
      "metadata": {
        "id": "SGHjkJkL_yHf",
        "colab_type": "code",
        "outputId": "f20a53bd-faa0-46ea-f4e7-0e226c8a0c24",
        "colab": {
          "base_uri": "https://localhost:8080/",
          "height": 207
        }
      },
      "source": [
        "D_in =  28*28\n",
        "D_out = 10 # number of classes\n",
        "W = torch.zeros((D_in,D_out))\n",
        "b = torch.ones((1,D_out))*.1\n",
        "\n",
        "torch.mm(torch.rand((5,D_in)),W)+b"
      ],
      "execution_count": 9,
      "outputs": [
        {
          "output_type": "execute_result",
          "data": {
            "text/plain": [
              "tensor([[0.1000, 0.1000, 0.1000, 0.1000, 0.1000, 0.1000, 0.1000, 0.1000, 0.1000,\n",
              "         0.1000],\n",
              "        [0.1000, 0.1000, 0.1000, 0.1000, 0.1000, 0.1000, 0.1000, 0.1000, 0.1000,\n",
              "         0.1000],\n",
              "        [0.1000, 0.1000, 0.1000, 0.1000, 0.1000, 0.1000, 0.1000, 0.1000, 0.1000,\n",
              "         0.1000],\n",
              "        [0.1000, 0.1000, 0.1000, 0.1000, 0.1000, 0.1000, 0.1000, 0.1000, 0.1000,\n",
              "         0.1000],\n",
              "        [0.1000, 0.1000, 0.1000, 0.1000, 0.1000, 0.1000, 0.1000, 0.1000, 0.1000,\n",
              "         0.1000]])"
            ]
          },
          "metadata": {
            "tags": []
          },
          "execution_count": 9
        }
      ]
    },
    {
      "cell_type": "markdown",
      "metadata": {
        "id": "VBLRJqWF552q",
        "colab_type": "text"
      },
      "source": [
        "## Softmax Classifier w/o `TORCH.NN`"
      ]
    },
    {
      "cell_type": "markdown",
      "metadata": {
        "id": "NyRPQB815_f1",
        "colab_type": "text"
      },
      "source": [
        "$$C_i = softmax(W\\cdot X_i + b)$$\n",
        "\n",
        "where softmax function with output $C_i\\in \\mathbb{R}^{K}$ , for $K$ classes\n",
        "\n",
        "$$softmax(z_i) = \\frac{e^{z_i}}{\\sum^K_{j=1} e^{z_j}}$$\n",
        "\n",
        "- $X_i$ input (flattened) image, 784x1 array\n",
        "- $C_i$ predicted class of the image (label), e.g. \"4\", $C_i$ is a $K$-dimensional vector (one-hot encoding).\n",
        "- $W, b$ are learnable model parameters\n",
        "[[more about softmax and other classifiers](https://cs231n.github.io/linear-classify/#softmax)]"
      ]
    },
    {
      "cell_type": "markdown",
      "metadata": {
        "id": "pEojiIHjlIBx",
        "colab_type": "text"
      },
      "source": [
        "In [`torch.nn`](https://pytorch.org/tutorials/beginner/nn_tutorial.html) tutorial author uses Xavier initialisation ([Glorot & Bengio 2010](http://proceedings.mlr.press/v9/glorot10a)) for initialising the weights. Since it is a _single layer network_ we could get away with sampling $W_{ij}$ from standard normal or uniform distributions.\n",
        "\n",
        "However, we do need to be careful when we initialise our network parameters. Incorrect initialisation leads to a slower training due to exploding (large $|W_{ij}|$) and/or zero ($W_{ij}\\approx 0$) gradients. This is especially true for deep models, and choice of the initialisation method depends on the activation function.\n",
        "\n",
        "`PyTorch` comes with many initialisation methods already implemented with helpful documentation and usage examples in its [`torch.nn.init`](https://pytorch.org/docs/stable/nn.init.html) module."
      ]
    },
    {
      "cell_type": "code",
      "metadata": {
        "id": "eipCnljD588H",
        "colab_type": "code",
        "colab": {}
      },
      "source": [
        ""
      ],
      "execution_count": 0,
      "outputs": []
    },
    {
      "cell_type": "markdown",
      "metadata": {
        "id": "xOv4J2NXlLgs",
        "colab_type": "text"
      },
      "source": [
        "## ConvNets\n",
        "\n"
      ]
    },
    {
      "cell_type": "code",
      "metadata": {
        "id": "wRBBoEjUlKpz",
        "colab_type": "code",
        "colab": {}
      },
      "source": [
        "from torch.nn.functional import conv2d"
      ],
      "execution_count": 0,
      "outputs": []
    }
  ]
}