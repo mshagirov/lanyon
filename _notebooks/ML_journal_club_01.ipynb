{
  "nbformat": 4,
  "nbformat_minor": 0,
  "metadata": {
    "colab": {
      "name": "ML_journal_club_01.ipynb",
      "provenance": [],
      "collapsed_sections": [],
      "authorship_tag": "ABX9TyPKiVQmEerqnBvTeaTRzBcN",
      "include_colab_link": true
    },
    "kernelspec": {
      "name": "python3",
      "display_name": "Python 3"
    },
    "accelerator": "GPU"
  },
  "cells": [
    {
      "cell_type": "markdown",
      "metadata": {
        "id": "view-in-github",
        "colab_type": "text"
      },
      "source": [
        "<a href=\"https://colab.research.google.com/github/mshagirov/mshagirov.github.io/blob/master/_notebooks/ML_journal_club_01.ipynb\" target=\"_parent\"><img src=\"https://colab.research.google.com/assets/colab-badge.svg\" alt=\"Open In Colab\"/></a>"
      ]
    },
    {
      "cell_type": "markdown",
      "metadata": {
        "id": "p52Mioie5pOd",
        "colab_type": "text"
      },
      "source": [
        "# MNIST HANDWRITTEN DIGIT CLASSIFICATION WITH PYTORCH"
      ]
    },
    {
      "cell_type": "markdown",
      "metadata": {
        "id": "hlnlRiJNz0hq",
        "colab_type": "text"
      },
      "source": [
        "This notebook follows [`TORCH.NN`](https://pytorch.org/tutorials/beginner/nn_tutorial.html) tutorial. If you are not familiar with `PyTorch`, you can read \"[What is PyTorch?](https://pytorch.org/tutorials/beginner/deep_learning_60min_blitz.html)\" and \"[Autograd](https://pytorch.org/tutorials/beginner/blitz/autograd_tutorial.html#sphx-glr-beginner-blitz-autograd-tutorial-py)\" tutorials from \"[Deep Learning with PyTorch: a 60 Minute Blitz](https://pytorch.org/tutorials/beginner/deep_learning_60min_blitz.html)\" to get a quick overview of PyTorch.\n",
        "\n",
        "---\n",
        "\n",
        "\n",
        "\n"
      ]
    },
    {
      "cell_type": "markdown",
      "metadata": {
        "id": "BwCPsLuT75d3",
        "colab_type": "text"
      },
      "source": [
        "It is assumed that you are either running this notebook in Google [colab](https://colab.research.google.com/github/mshagirov/mshagirov.github.io/blob/master/_notebooks/ML_journal_club_01.ipynb), or you have already downloaded and locally installed [`pytorch`](https://pytorch.org/get-started/locally/) and all other required packaged to run this notebook on your computer (as long as you have `pytorch`, you can install other packages as you go along).\n",
        "\n",
        "\n",
        "**Additional resources**:\n",
        "- \"Deep Learning\" course: course notes with `PyTorch` codes (Alfredo Canziani, NYU) [[website](https://atcold.github.io/pytorch-Deep-Learning/)] [[notebooks](https://github.com/Atcold/pytorch-Deep-Learning)]\n",
        "- \"Practical Deep Learning for Coders v3\": deep NN models are implemented in `PyTorch` (`fast.ai`) [[website](https://course.fast.ai)]\n"
      ]
    },
    {
      "cell_type": "code",
      "metadata": {
        "id": "6WXHYbvZtUGs",
        "colab_type": "code",
        "colab": {}
      },
      "source": [
        "import torch\n",
        "import numpy as np\n",
        "import matplotlib.pyplot as plt"
      ],
      "execution_count": 0,
      "outputs": []
    },
    {
      "cell_type": "markdown",
      "metadata": {
        "id": "EQ3rdhSPbmPv",
        "colab_type": "text"
      },
      "source": [
        "Check for CUDA-enabled GPUs, or else use CPU:"
      ]
    },
    {
      "cell_type": "code",
      "metadata": {
        "id": "LCEACAVza2Sj",
        "colab_type": "code",
        "outputId": "dc19e7c4-6260-4dfc-8731-453326d87f39",
        "colab": {
          "base_uri": "https://localhost:8080/",
          "height": 34
        }
      },
      "source": [
        "if torch.cuda.is_available():\n",
        "  device = torch.device('cuda')\n",
        "else:\n",
        "  device = torch.device(\"cpu\")\n",
        "print(f'Available device: {device}')"
      ],
      "execution_count": 2,
      "outputs": [
        {
          "output_type": "stream",
          "text": [
            "Available device: cuda\n"
          ],
          "name": "stdout"
        }
      ]
    },
    {
      "cell_type": "markdown",
      "metadata": {
        "id": "X-dCe_hl4_5p",
        "colab_type": "text"
      },
      "source": [
        "## Download and Import the Datasets"
      ]
    },
    {
      "cell_type": "code",
      "metadata": {
        "id": "_8BG3qd8uOBP",
        "colab_type": "code",
        "colab": {}
      },
      "source": [
        "from pathlib import Path\n",
        "import requests\n",
        "\n",
        "DATA_PATH = Path(\"data\")\n",
        "PATH = DATA_PATH / \"mnist\"\n",
        "\n",
        "PATH.mkdir(parents=True, exist_ok=True)\n",
        "\n",
        "URL = \"http://deeplearning.net/data/mnist/\"\n",
        "FILENAME = \"mnist.pkl.gz\"\n",
        "\n",
        "if not (PATH / FILENAME).exists():\n",
        "        content = requests.get(URL + FILENAME).content\n",
        "        (PATH / FILENAME).open(\"wb\").write(content)"
      ],
      "execution_count": 0,
      "outputs": []
    },
    {
      "cell_type": "code",
      "metadata": {
        "id": "7GTN9nCrx3s_",
        "colab_type": "code",
        "outputId": "a400297e-8ff0-489e-ac33-f329a35d902a",
        "colab": {
          "base_uri": "https://localhost:8080/",
          "height": 153
        }
      },
      "source": [
        "# Training and testing datasets\n",
        "import pickle\n",
        "import gzip\n",
        "\n",
        "with gzip.open((PATH / FILENAME).as_posix(), \"rb\") as f:\n",
        "        ((x_train, y_train), (x_valid, y_valid), _) = pickle.load(f, encoding=\"latin-1\")\n",
        "\n",
        "# Comvert to torch tensor\n",
        "x_train, y_train, x_valid, y_valid = map(\n",
        "    torch.tensor, (x_train, y_train, x_valid, y_valid)\n",
        ")\n",
        "\n",
        "print(f'Training set\\n# samples : {x_train.shape[0]}\\nx shape : {x_train.shape}',\n",
        "      f'\\ny shape : {y_train.shape}')\n",
        "print(f'\\nValidation set\\n# samples : {x_valid.shape[0]}\\nx shape : {x_valid.shape}')"
      ],
      "execution_count": 4,
      "outputs": [
        {
          "output_type": "stream",
          "text": [
            "Training set\n",
            "# samples : 50000\n",
            "x shape : torch.Size([50000, 784]) \n",
            "y shape : torch.Size([50000])\n",
            "\n",
            "Validation set\n",
            "# samples : 10000\n",
            "x shape : torch.Size([10000, 784])\n"
          ],
          "name": "stdout"
        }
      ]
    },
    {
      "cell_type": "markdown",
      "metadata": {
        "id": "U8tk4ykps7px",
        "colab_type": "text"
      },
      "source": [
        "## Display MNIST Samples from \"Training\" and \"Validation\" Datasets"
      ]
    },
    {
      "cell_type": "markdown",
      "metadata": {
        "id": "_ZycfVz6vo-K",
        "colab_type": "text"
      },
      "source": [
        "* Let's plot some randomly selected examples"
      ]
    },
    {
      "cell_type": "code",
      "metadata": {
        "id": "NNDCP6vQ2p0q",
        "colab_type": "code",
        "outputId": "1e5405a8-b757-4905-b713-2799407d6981",
        "colab": {
          "base_uri": "https://localhost:8080/",
          "height": 34
        }
      },
      "source": [
        "np.random.seed(42)\n",
        "sample_ids = np.random.randint(x_valid.shape[0],size=(5,))\n",
        "print(f'We will plot samples {sample_ids} from \"training\" and \"validation\" datasets.')"
      ],
      "execution_count": 5,
      "outputs": [
        {
          "output_type": "stream",
          "text": [
            "We will plot samples [7270  860 5390 5191 5734] from \"training\" and \"validation\" datasets.\n"
          ],
          "name": "stdout"
        }
      ]
    },
    {
      "cell_type": "code",
      "metadata": {
        "id": "Pjjlsruu18JU",
        "colab_type": "code",
        "outputId": "8094ac5f-6ca0-4497-c260-9ebc8d9da07b",
        "colab": {
          "base_uri": "https://localhost:8080/",
          "height": 133
        }
      },
      "source": [
        "_, axs = plt.subplots(ncols=5,figsize=[7,2])\n",
        "\n",
        "for ax,t in zip(axs,sample_ids):\n",
        "  ax.imshow(x_train[t,:].reshape(28,28),cmap='gray')\n",
        "  ax.set_title(f'Label : {y_train[t]}')\n",
        "  ax.axis(False)\n",
        "plt.suptitle(f'Training dataset (\"x_train\")');\n",
        "plt.show()"
      ],
      "execution_count": 6,
      "outputs": [
        {
          "output_type": "display_data",
          "data": {
            "image/png": "[encoded data removed]",
            "text/plain": [
              "<Figure size 504x144 with 5 Axes>"
            ]
          },
          "metadata": {
            "tags": [],
            "needs_background": "light"
          }
        }
      ]
    },
    {
      "cell_type": "code",
      "metadata": {
        "id": "rDG_sl-708Aq",
        "colab_type": "code",
        "outputId": "0f523fd7-01ef-48b3-ab1f-beb1db6843d0",
        "colab": {
          "base_uri": "https://localhost:8080/",
          "height": 133
        }
      },
      "source": [
        "_, axs = plt.subplots(ncols=5,figsize=[7,2])\n",
        "\n",
        "for ax,t in zip(axs,sample_ids):\n",
        "  ax.imshow(x_valid[t,:].reshape(28,28),cmap='gray')\n",
        "  ax.set_title(f'Label : {y_valid[t]}')\n",
        "  ax.axis(False)\n",
        "plt.suptitle('Validation dataset (\"x_valid\")');\n",
        "plt.show()"
      ],
      "execution_count": 7,
      "outputs": [
        {
          "output_type": "display_data",
          "data": {
            "image/png": "[encoded data removed]",
            "text/plain": [
              "<Figure size 504x144 with 5 Axes>"
            ]
          },
          "metadata": {
            "tags": [],
            "needs_background": "light"
          }
        }
      ]
    },
    {
      "cell_type": "markdown",
      "metadata": {
        "id": "I5ce7GS_FjkH",
        "colab_type": "text"
      },
      "source": [
        "## Converting Labels to One-hot Encoding in Pytorch\n",
        "\n",
        "Although some loss functions can handle labels in their raw form (e.g. $y_i$ = \"1\"), in its general form multiclass classifier requires us to encode target labels (those we provide during the training) into one-hot encoding format. In pytorch, we can use `scatter` function for one-hot encoding MNIST labels.\n",
        "- Technically, all loss functions internally have to represent target and predicted labels as one-hot encoded vectors.\n",
        "- E.g. one-hot encoded labels for digits \"1\" and \"5\" are as follows\n",
        "  - \"1\": `[0, 1, 0, 0, 0, 0, 0, 0, 0, 0]`, and \n",
        "  - \"5\": `[0, 0, 0, 0, 0, 1, 0, 0, 0, 0]`"
      ]
    },
    {
      "cell_type": "code",
      "metadata": {
        "id": "VSE7FQE3CaBd",
        "colab_type": "code",
        "outputId": "5707b6d9-3e01-47ad-a7f5-e9eee4ba1116",
        "colab": {
          "base_uri": "https://localhost:8080/",
          "height": 51
        }
      },
      "source": [
        "y_hot = torch.FloatTensor(2,10) # initialise batch labels (done once outside the for-loop)\n",
        "y_hot.zero_() # set them to zero (for each iter-n)\n",
        "y_hot.scatter_(1,torch.tensor([[1],[4]]),1) # encode labels \"1\" and \"4\"\n",
        "y_hot"
      ],
      "execution_count": 8,
      "outputs": [
        {
          "output_type": "execute_result",
          "data": {
            "text/plain": [
              "tensor([[0., 1., 0., 0., 0., 0., 0., 0., 0., 0.],\n",
              "        [0., 0., 0., 0., 1., 0., 0., 0., 0., 0.]])"
            ]
          },
          "metadata": {
            "tags": []
          },
          "execution_count": 8
        }
      ]
    },
    {
      "cell_type": "code",
      "metadata": {
        "id": "SGHjkJkL_yHf",
        "colab_type": "code",
        "outputId": "b98e0397-769f-4c81-e37a-e93812cb5e04",
        "colab": {
          "base_uri": "https://localhost:8080/",
          "height": 187
        }
      },
      "source": [
        "D_in =  28*28\n",
        "D_out = 10 # number of classes\n",
        "W = torch.zeros((D_in,D_out))\n",
        "b = torch.ones((1,D_out))*.1\n",
        "\n",
        "torch.mm(torch.rand((5,D_in)),W)+b"
      ],
      "execution_count": 9,
      "outputs": [
        {
          "output_type": "execute_result",
          "data": {
            "text/plain": [
              "tensor([[0.1000, 0.1000, 0.1000, 0.1000, 0.1000, 0.1000, 0.1000, 0.1000, 0.1000,\n",
              "         0.1000],\n",
              "        [0.1000, 0.1000, 0.1000, 0.1000, 0.1000, 0.1000, 0.1000, 0.1000, 0.1000,\n",
              "         0.1000],\n",
              "        [0.1000, 0.1000, 0.1000, 0.1000, 0.1000, 0.1000, 0.1000, 0.1000, 0.1000,\n",
              "         0.1000],\n",
              "        [0.1000, 0.1000, 0.1000, 0.1000, 0.1000, 0.1000, 0.1000, 0.1000, 0.1000,\n",
              "         0.1000],\n",
              "        [0.1000, 0.1000, 0.1000, 0.1000, 0.1000, 0.1000, 0.1000, 0.1000, 0.1000,\n",
              "         0.1000]])"
            ]
          },
          "metadata": {
            "tags": []
          },
          "execution_count": 9
        }
      ]
    },
    {
      "cell_type": "markdown",
      "metadata": {
        "id": "VBLRJqWF552q",
        "colab_type": "text"
      },
      "source": [
        "## Softmax Classifier w/o `TORCH.NN`"
      ]
    },
    {
      "cell_type": "markdown",
      "metadata": {
        "id": "NyRPQB815_f1",
        "colab_type": "text"
      },
      "source": [
        "$$C_i = softmax(W\\cdot X_i + b)$$\n",
        "\n",
        "where softmax function with output $C_i\\in \\mathbb{R}^{K}$ , for $K$ classes\n",
        "\n",
        "$$softmax(z_i) = \\frac{e^{z_i}}{\\sum^K_{j=1} e^{z_j}}$$\n",
        "\n",
        "- $X_i$ input (flattened) image, 784x1 array\n",
        "- $C_i$ predicted class of the image (label), e.g. \"4\", $C_i$ is a $K$-dimensional vector (one-hot encoding).\n",
        "- $W\\in\\mathbb{R}^{10\\times784}, b\\in\\mathbb{R}^{10}$ are learnable model parameters\n",
        "[[more about softmax and other classifiers](https://cs231n.github.io/linear-classify/#softmax)] (below we will be using $W^T$ with multiple examples from the dataset $X$, called mini-batch or batch, but otherwise the model definition is equivalent)\n",
        "\n",
        "Same as the tutorial we use $log(C_i)$ (\"log-of-softmax\") in the model. If you want to convert the values into probabilities you need to take exponential of the model output."
      ]
    },
    {
      "cell_type": "markdown",
      "metadata": {
        "id": "pEojiIHjlIBx",
        "colab_type": "text"
      },
      "source": [
        "In [`torch.nn`](https://pytorch.org/tutorials/beginner/nn_tutorial.html) tutorial author uses Xavier initialisation ([Glorot & Bengio 2010](http://proceedings.mlr.press/v9/glorot10a)) for initialising the weights. Since it is a _single layer network_ we could get away with sampling $W_{ij}$ from standard normal or uniform distributions.\n",
        "\n",
        "However, we do need to be careful when we initialise our network parameters. Incorrect initialisation leads to a slower training due to exploding (large $|W_{ij}|$) and/or zero ($W_{ij}\\approx 0$) gradients. This is especially true for deep models, and choice of the initialisation method depends on the activation function.\n",
        "\n",
        "`PyTorch` comes with many initialisation methods already implemented with helpful documentation and usage examples in its [`torch.nn.init`](https://pytorch.org/docs/stable/nn.init.html) module."
      ]
    },
    {
      "cell_type": "markdown",
      "metadata": {
        "id": "MNDsd0DDNuQK",
        "colab_type": "text"
      },
      "source": [
        "### Model Parameters"
      ]
    },
    {
      "cell_type": "markdown",
      "metadata": {
        "id": "nUrK_5ve5VJo",
        "colab_type": "text"
      },
      "source": [
        "- When init-g parameters we need to set `requires_grad` flag of the `pytorch` tensor to `True`. This enables `autograd` to keep track of the gradients w.r.t. the param-s"
      ]
    },
    {
      "cell_type": "code",
      "metadata": {
        "id": "eipCnljD588H",
        "colab_type": "code",
        "outputId": "156f941a-5efb-42f8-d0bf-e43927c6cfb6",
        "colab": {
          "base_uri": "https://localhost:8080/",
          "height": 51
        }
      },
      "source": [
        "# Standard normal\n",
        "weights = torch.randn(784, 10).to(device)\n",
        "\n",
        "# With Xavier:\n",
        "# weights = torch.randn(784, 10).to(device)*np.sqrt(2)/np.sqrt(784+10)\n",
        "\n",
        "print(f'weights.requires_grad: {weights.requires_grad}')\n",
        "weights.requires_grad_() #sets requires_grad flag to True\n",
        "print(f'weights.requires_grad: {weights.requires_grad}')"
      ],
      "execution_count": 36,
      "outputs": [
        {
          "output_type": "stream",
          "text": [
            "weights.requires_grad: False\n",
            "weights.requires_grad: True\n"
          ],
          "name": "stdout"
        }
      ]
    },
    {
      "cell_type": "code",
      "metadata": {
        "id": "8KGCw44V6UhT",
        "colab_type": "code",
        "colab": {}
      },
      "source": [
        "#enable grad tracking at tensor init-n\n",
        "bias = torch.zeros(10, requires_grad=True, device=device)"
      ],
      "execution_count": 0,
      "outputs": []
    },
    {
      "cell_type": "markdown",
      "metadata": {
        "id": "LPQKZ7hk7ZHY",
        "colab_type": "text"
      },
      "source": [
        "### Model\n",
        "- Softmax classifier"
      ]
    },
    {
      "cell_type": "code",
      "metadata": {
        "id": "7qVs85cw7Mkt",
        "colab_type": "code",
        "colab": {}
      },
      "source": [
        "def log_softmax(x):\n",
        "  return x - x.exp().sum(-1).log().unsqueeze(-1)\n",
        "\n",
        "def model(xbatch):\n",
        "  return log_softmax(xbatch @ weights + bias)"
      ],
      "execution_count": 0,
      "outputs": []
    },
    {
      "cell_type": "code",
      "metadata": {
        "id": "pSrZ3VdG9eTi",
        "colab_type": "code",
        "outputId": "c95123ac-f341-484d-d3f9-bc2b5c0f7767",
        "colab": {
          "base_uri": "https://localhost:8080/",
          "height": 68
        }
      },
      "source": [
        "bs = 8  # batch size\n",
        "\n",
        "xb = x_train[0:bs].to(device)  # a mini-batch from x\n",
        "preds = model(xb)  # predictions\n",
        "preds[0], preds.shape\n",
        "print(preds[0], preds.shape)"
      ],
      "execution_count": 39,
      "outputs": [
        {
          "output_type": "stream",
          "text": [
            "tensor([-2.3873e+01, -9.3209e+00, -2.0566e+01, -1.6471e+01, -2.0073e+01,\n",
            "        -1.9398e+01, -1.3134e+01, -1.2125e-02, -4.4262e+00, -2.2347e+01],\n",
            "       device='cuda:0', grad_fn=<SelectBackward>) torch.Size([8, 10])\n"
          ],
          "name": "stdout"
        }
      ]
    },
    {
      "cell_type": "markdown",
      "metadata": {
        "id": "joanTU8AEV_Y",
        "colab_type": "text"
      },
      "source": [
        "- Note the `grad_fn` and `device`."
      ]
    },
    {
      "cell_type": "markdown",
      "metadata": {
        "id": "g1iMSJMxBWZK",
        "colab_type": "text"
      },
      "source": [
        "### Loss Function\n",
        "- _negative log-likelihood_ (w/o using one-hot encoding)\n",
        "\n",
        "_See also_ [`torch.nn.NLLLoss`](https://pytorch.org/docs/stable/nn.html#nllloss), and other `torch.nn` [loss functions](https://pytorch.org/docs/stable/nn.html#loss-functions)."
      ]
    },
    {
      "cell_type": "code",
      "metadata": {
        "id": "_veTKM3Z-A67",
        "colab_type": "code",
        "colab": {}
      },
      "source": [
        "def nll(ypred, target):\n",
        "    return -ypred[range(target.shape[0]), target].mean()\n",
        "\n",
        "loss_func = nll"
      ],
      "execution_count": 0,
      "outputs": []
    },
    {
      "cell_type": "code",
      "metadata": {
        "id": "DGOcg9EUAl5w",
        "colab_type": "code",
        "outputId": "9af1b5af-02ea-40d0-fa06-450eccf3ed4a",
        "colab": {
          "base_uri": "https://localhost:8080/",
          "height": 34
        }
      },
      "source": [
        "yb = y_train[0:bs].to(device)\n",
        "print(loss_func(preds, yb))"
      ],
      "execution_count": 41,
      "outputs": [
        {
          "output_type": "stream",
          "text": [
            "tensor(15.8465, device='cuda:0', grad_fn=<NegBackward>)\n"
          ],
          "name": "stdout"
        }
      ]
    },
    {
      "cell_type": "markdown",
      "metadata": {
        "id": "v5b_-v0lIELo",
        "colab_type": "text"
      },
      "source": [
        "- Accuracy"
      ]
    },
    {
      "cell_type": "code",
      "metadata": {
        "id": "nlLmcXUPBFLd",
        "colab_type": "code",
        "colab": {}
      },
      "source": [
        "def accuracy(ypred, ytarget):\n",
        "    preds = torch.argmax(ypred, dim=1)\n",
        "    return (preds == ytarget).float().mean()"
      ],
      "execution_count": 0,
      "outputs": []
    },
    {
      "cell_type": "code",
      "metadata": {
        "id": "1KrLQxA9IDKu",
        "colab_type": "code",
        "outputId": "beb8fc9e-4f7b-4990-d6f3-4a155a4004d0",
        "colab": {
          "base_uri": "https://localhost:8080/",
          "height": 34
        }
      },
      "source": [
        "print(accuracy(preds, yb))"
      ],
      "execution_count": 43,
      "outputs": [
        {
          "output_type": "stream",
          "text": [
            "tensor(0.1250, device='cuda:0')\n"
          ],
          "name": "stdout"
        }
      ]
    },
    {
      "cell_type": "markdown",
      "metadata": {
        "id": "2VlDY1UoIU6B",
        "colab_type": "text"
      },
      "source": [
        "Notes on debugging classifiers:\n",
        "- Since we have 10 output classes, even a random model, that guesses outputs randomly, should have roughly 10% accuracy."
      ]
    },
    {
      "cell_type": "markdown",
      "metadata": {
        "id": "xrqwKFLGJcis",
        "colab_type": "text"
      },
      "source": [
        "### Training Loop"
      ]
    },
    {
      "cell_type": "code",
      "metadata": {
        "id": "jf_LxBscINT-",
        "colab_type": "code",
        "colab": {}
      },
      "source": [
        "# from IPython.core.debugger import set_trace\n",
        "\n",
        "# Set gradients to zeros\n",
        "if weights.grad is not None:\n",
        "  weights.grad.zero_()\n",
        "  bias.grad.zero_()\n",
        "\n",
        "bs = 64 # batch size\n",
        "lr = 0.5 # learning rate (step size)\n",
        "\n",
        "epochs = 2  # how many epochs to train for\n",
        "# Epochs: number of times to go through the whole dataset\n",
        "n = x_train.shape[0]\n",
        "\n",
        "for epoch in range(epochs):\n",
        "    for i in range((n - 1) // bs + 1):\n",
        "        # set_trace()\n",
        "        start_i = i * bs\n",
        "        end_i = start_i + bs\n",
        "        xb = x_train[start_i:end_i].to(device)\n",
        "        yb = y_train[start_i:end_i].to(device)\n",
        "        pred = model(xb)\n",
        "        loss = loss_func(pred.to(device), yb.to(device))\n",
        "\n",
        "        loss.backward()\n",
        "        with torch.no_grad():\n",
        "            weights -= weights.grad * lr\n",
        "            bias -= bias.grad * lr\n",
        "            weights.grad.zero_()\n",
        "            bias.grad.zero_()"
      ],
      "execution_count": 0,
      "outputs": []
    },
    {
      "cell_type": "code",
      "metadata": {
        "id": "GrIKWHceLpJH",
        "colab_type": "code",
        "outputId": "0ad5fd03-44e3-4e2f-8efd-2850ba04791e",
        "colab": {
          "base_uri": "https://localhost:8080/",
          "height": 51
        }
      },
      "source": [
        "# Loss/Acc for the latest batch\n",
        "print(f'Loss (NLL): {loss_func(model(xb), yb)}\\n'+\n",
        "      f'Accuracy : {accuracy(model(xb), yb)*100}%')"
      ],
      "execution_count": 64,
      "outputs": [
        {
          "output_type": "stream",
          "text": [
            "Loss (NLL): 0.04381337761878967\n",
            "Accuracy : 100.0%\n"
          ],
          "name": "stdout"
        }
      ]
    },
    {
      "cell_type": "code",
      "metadata": {
        "id": "qA9652mSEKKi",
        "colab_type": "code",
        "colab": {}
      },
      "source": [
        "# What is the average loss and accuracy for the whole training/validation dataset?\n"
      ],
      "execution_count": 0,
      "outputs": []
    },
    {
      "cell_type": "markdown",
      "metadata": {
        "id": "1SmuGzICHt2_",
        "colab_type": "text"
      },
      "source": [
        "What did our linear model learn? Spoiler-- templates."
      ]
    },
    {
      "cell_type": "code",
      "metadata": {
        "id": "HGiSsuk7Cfqs",
        "colab_type": "code",
        "colab": {
          "base_uri": "https://localhost:8080/",
          "height": 276
        },
        "outputId": "5f010275-3e30-47e1-ec0b-128e27114b7f"
      },
      "source": [
        "_, axs = plt.subplots(ncols=5,nrows=2,figsize=[10,4])\n",
        "\n",
        "for k,ax in enumerate(axs.ravel()):\n",
        "  Wrow= weights[:,k].detach().cpu().numpy().reshape(28,28)\n",
        "  ax.imshow(Wrow,cmap='magma')\n",
        "  ax.set_title(f'{k}')\n",
        "  ax.axis(False)\n",
        "plt.suptitle('Rows of Weight Matrix (Learned filters)');\n",
        "plt.show()"
      ],
      "execution_count": 60,
      "outputs": [
        {
          "output_type": "display_data",
          "data": {
            "image/png": "[encoded data removed]",
            "text/plain": [
              "<Figure size 720x288 with 10 Axes>"
            ]
          },
          "metadata": {
            "tags": [],
            "needs_background": "light"
          }
        }
      ]
    },
    {
      "cell_type": "markdown",
      "metadata": {
        "id": "ivG0QMcjC3iS",
        "colab_type": "text"
      },
      "source": [
        "Let's train this model a little bit more"
      ]
    },
    {
      "cell_type": "code",
      "metadata": {
        "id": "g7H8Vm92CqkX",
        "colab_type": "code",
        "colab": {}
      },
      "source": [
        "# Set gradients to zeros\n",
        "if weights.grad is not None:\n",
        "  weights.grad.zero_()\n",
        "  bias.grad.zero_()\n",
        "\n",
        "lr = 0.5 # learning rate (step size)\n",
        "\n",
        "epochs = 30  # how many epochs to train for\n",
        "# Epochs: number of times to go through the whole dataset\n",
        "\n",
        "for epoch in range(epochs):\n",
        "    for i in range((n - 1) // bs + 1):\n",
        "        start_i = i * bs\n",
        "        end_i = start_i + bs\n",
        "        xb = x_train[start_i:end_i].to(device)\n",
        "        yb = y_train[start_i:end_i].to(device)\n",
        "        pred = model(xb)\n",
        "        loss = loss_func(pred.to(device), yb.to(device))\n",
        "\n",
        "        loss.backward()\n",
        "        with torch.no_grad():\n",
        "            weights -= weights.grad * lr\n",
        "            bias -= bias.grad * lr\n",
        "            weights.grad.zero_()\n",
        "            bias.grad.zero_()"
      ],
      "execution_count": 0,
      "outputs": []
    },
    {
      "cell_type": "code",
      "metadata": {
        "id": "VOZWRBkRR0j_",
        "colab_type": "code",
        "colab": {}
      },
      "source": [
        "print(f'Loss (NLL): {loss_func(model(xb), yb)}\\n'+\n",
        "      f'Accuracy : {accuracy(model(xb), yb)*100}%')"
      ],
      "execution_count": 0,
      "outputs": []
    },
    {
      "cell_type": "code",
      "metadata": {
        "id": "VGWrNJ50POu2",
        "colab_type": "code",
        "outputId": "c525b0e7-aec6-4c11-fa53-ed86b3483a07",
        "colab": {
          "base_uri": "https://localhost:8080/",
          "height": 276
        }
      },
      "source": [
        "#after longer training\n",
        "_, axs = plt.subplots(ncols=5,nrows=2,figsize=[10,4])\n",
        "\n",
        "for k,ax in enumerate(axs.ravel()):\n",
        "  Wrow= weights[:,k].detach().cpu().numpy().reshape(28,28)\n",
        "  ax.imshow(Wrow,cmap='magma')\n",
        "  ax.set_title(f'{k}')\n",
        "  ax.axis(False)\n",
        "plt.suptitle('Rows of Weight Matrix (Learned filters) after additional training');\n",
        "plt.show()"
      ],
      "execution_count": 59,
      "outputs": [
        {
          "output_type": "display_data",
          "data": {
            "image/png": "[encoded data removed]",
            "text/plain": [
              "<Figure size 720x288 with 10 Axes>"
            ]
          },
          "metadata": {
            "tags": [],
            "needs_background": "light"
          }
        }
      ]
    },
    {
      "cell_type": "markdown",
      "metadata": {
        "id": "ZqCAHaU_FUC9",
        "colab_type": "text"
      },
      "source": [
        "You can also try running this code with Xavier init-n. Take note of the loss and acc. for the same conditions."
      ]
    },
    {
      "cell_type": "markdown",
      "metadata": {
        "id": "e92RffX0FyfV",
        "colab_type": "text"
      },
      "source": [
        "## Softmax Classifier with `TORCH.NN`\n"
      ]
    },
    {
      "cell_type": "markdown",
      "metadata": {
        "id": "CoLsEyYhP_td",
        "colab_type": "text"
      },
      "source": [
        "### `nn.functional`: From Loss Functions to Your Own Layer Definitions"
      ]
    },
    {
      "cell_type": "markdown",
      "metadata": {
        "id": "RLPrpEv5Nh0n",
        "colab_type": "text"
      },
      "source": [
        "Here we will simplify our code by using `nn.functional` module (copied from `nn` tutorial)\n",
        "- Loss functions [docs](https://pytorch.org/docs/stable/nn.functional.html#loss-functions)\n",
        "\n",
        "In the code below we will use [cross entropy loss](https://pytorch.org/docs/stable/nn.functional.html#cross-entropy):\n",
        "$$loss(y_{pred},\\mathbf{t}) = -log\\left(\\frac{exp(y_{pred}[\\mathbf{t}])}{\\sum_j exp(y_{pred}[j])}\\right)$$\n",
        "Since `nn.functional.cross_entropy` combines `log_softmax` and `nll_loss`, we will have to re-write our model (we no longer need the \"log-softmax\" in the model, now it's moved to the loss function).\n",
        "\n",
        "`nn.functional` also provides wide range of filters and functions, e.g.:\n",
        "- Convolutional filters [[docs](https://pytorch.org/docs/stable/nn.functional.html#torch.nn.functional.conv2d)]\n",
        "- Dropout functions [[docs](https://pytorch.org/docs/stable/nn.functional.html#dropout-functions)]\n",
        "- Functions for working with images [[docs](https://pytorch.org/docs/stable/nn.functional.html#vision-functions)]\n",
        "- and more!\n",
        "\n",
        "_These functions can be used when you want to define your own more complex function or neural network layers._"
      ]
    },
    {
      "cell_type": "code",
      "metadata": {
        "id": "ONkNCj-1NW7G",
        "colab_type": "code",
        "colab": {}
      },
      "source": [
        "import torch.nn.functional as F\n",
        "\n",
        "loss_func = F.cross_entropy\n",
        "\n",
        "def model(xb):\n",
        "    return xb @ weights + bias # no log-softmax"
      ],
      "execution_count": 0,
      "outputs": []
    },
    {
      "cell_type": "markdown",
      "metadata": {
        "id": "bsTAM9Z8R4Em",
        "colab_type": "text"
      },
      "source": [
        "The loss value should be the same as before"
      ]
    },
    {
      "cell_type": "code",
      "metadata": {
        "id": "t4MwM6B3RjqH",
        "colab_type": "code",
        "colab": {
          "base_uri": "https://localhost:8080/",
          "height": 51
        },
        "outputId": "d0963c31-aa54-47b5-9cd3-af3f8423bbcf"
      },
      "source": [
        "print(f'Loss (NLL): {loss_func(model(xb), yb)}\\n'+\n",
        "      f'Accuracy : {accuracy(model(xb), yb)*100}%')"
      ],
      "execution_count": 67,
      "outputs": [
        {
          "output_type": "stream",
          "text": [
            "Loss (NLL): 0.043813347816467285\n",
            "Accuracy : 100.0%\n"
          ],
          "name": "stdout"
        }
      ]
    },
    {
      "cell_type": "markdown",
      "metadata": {
        "id": "kA5_QCXnWz_2",
        "colab_type": "text"
      },
      "source": [
        "### `nn.Module`: Base Class for Higher-level Layer and Model Definitions\n",
        "\n"
      ]
    },
    {
      "cell_type": "markdown",
      "metadata": {
        "id": "VSDuG3PuYwzK",
        "colab_type": "text"
      },
      "source": [
        "Although you could directly define shallow models with [`torch.nn.Sequential`](https://pytorch.org/docs/stable/nn.html#sequential) (or similar `nn` classes called [containers](https://pytorch.org/docs/stable/nn.html#containers), e.g. \"module list\"), for more complex models it is more convenient to inherent from `nn.Module` base-class (also a container) and define complex layers and models. E.g.\n",
        "```python\n",
        "class Special_Layer(nn.Module):\n",
        "  # you can use other containers here\n",
        "  ...\n",
        "```\n",
        "> and then use this layer in another layer or model:\n",
        "\n",
        "```python\n",
        "class My_Model(nn.Module):\n",
        "  def __init__(self):\n",
        "    super(Model, self).__init__()\n",
        "    # some layer definitions\n",
        "    self.special = Special_Layer(layer_params)\n",
        "    ...\n",
        "  def forward(self, x):\n",
        "    x = F.relu(self.special(x))\n",
        "    ...\n",
        "    return x\n",
        "```"
      ]
    },
    {
      "cell_type": "markdown",
      "metadata": {
        "id": "VO5GsrtlfJSv",
        "colab_type": "text"
      },
      "source": [
        "We need to convert our `weights` and `bias` param-s into `nn.Parameter` tensor. `Parameter` tensor allows `nn.Module` to automatically keep track of the model param-s (as long as they are `Module` attributes) and can be used with `nn.Module` convenience functions such as [`self.parameters()`](https://pytorch.org/docs/stable/nn.html#torch.nn.Module.parameters). This allows us to keep temporary variables in the model w/o registering them as `Parameter` tensor."
      ]
    },
    {
      "cell_type": "code",
      "metadata": {
        "id": "2m5wJcVYRm5e",
        "colab_type": "code",
        "colab": {}
      },
      "source": [
        "from torch import nn\n",
        "\n",
        "class Mnist_Logistic(nn.Module):\n",
        "    def __init__(self):\n",
        "        super().__init__()\n",
        "        self.weights = nn.Parameter(torch.randn(784, 10) / math.sqrt(784))\n",
        "        self.bias = nn.Parameter(torch.zeros(10))\n",
        "\n",
        "    def forward(self, xb):\n",
        "        return xb @ self.weights + self.bias"
      ],
      "execution_count": 0,
      "outputs": []
    }
  ]
}