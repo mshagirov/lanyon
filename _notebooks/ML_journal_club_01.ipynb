{
  "nbformat": 4,
  "nbformat_minor": 0,
  "metadata": {
    "colab": {
      "name": "ML_journal_club_01.ipynb",
      "provenance": [],
      "collapsed_sections": [],
      "toc_visible": true,
      "authorship_tag": "ABX9TyObp+/xFkRd7iFGCq1gLYb0",
      "include_colab_link": true
    },
    "kernelspec": {
      "name": "python3",
      "display_name": "Python 3"
    },
    "accelerator": "GPU"
  },
  "cells": [
    {
      "cell_type": "markdown",
      "metadata": {
        "id": "view-in-github",
        "colab_type": "text"
      },
      "source": [
        "<a href=\"https://colab.research.google.com/github/mshagirov/mshagirov.github.io/blob/master/_notebooks/ML_journal_club_01.ipynb\" target=\"_parent\"><img src=\"https://colab.research.google.com/assets/colab-badge.svg\" alt=\"Open In Colab\"/></a>"
      ]
    },
    {
      "cell_type": "markdown",
      "metadata": {
        "id": "p52Mioie5pOd",
        "colab_type": "text"
      },
      "source": [
        "# MNIST HANDWRITTEN DIGIT CLASSIFICATION WITH PYTORCH"
      ]
    },
    {
      "cell_type": "markdown",
      "metadata": {
        "id": "hlnlRiJNz0hq",
        "colab_type": "text"
      },
      "source": [
        "This notebook follows [`TORCH.NN`](https://pytorch.org/tutorials/beginner/nn_tutorial.html) tutorial. If you are not familiar with `PyTorch`, you can read \"[What is PyTorch?](https://pytorch.org/tutorials/beginner/deep_learning_60min_blitz.html)\" and \"[Autograd](https://pytorch.org/tutorials/beginner/blitz/autograd_tutorial.html#sphx-glr-beginner-blitz-autograd-tutorial-py)\" tutorials from \"[Deep Learning with PyTorch: a 60 Minute Blitz](https://pytorch.org/tutorials/beginner/deep_learning_60min_blitz.html)\" to get a quick overview of PyTorch.\n",
        "\n",
        "---\n",
        "\n",
        "\n",
        "\n"
      ]
    },
    {
      "cell_type": "markdown",
      "metadata": {
        "id": "BwCPsLuT75d3",
        "colab_type": "text"
      },
      "source": [
        "It is assumed that you are either running this notebook in Google [colab](https://colab.research.google.com/github/mshagirov/mshagirov.github.io/blob/master/_notebooks/ML_journal_club_01.ipynb), or you have already downloaded and locally installed [`pytorch`](https://pytorch.org/get-started/locally/) and all other required packaged to run this notebook on your computer (as long as you have `pytorch`, you can install other packages as you go along).\n",
        "\n",
        "\n",
        "**Additional resources**:\n",
        "- \"Deep Learning\" course: course notes with `PyTorch` codes (Alfredo Canziani, NYU) [[website](https://atcold.github.io/pytorch-Deep-Learning/)] [[notebooks](https://github.com/Atcold/pytorch-Deep-Learning)]\n",
        "- \"Practical Deep Learning for Coders v3\": deep NN models are implemented in `PyTorch` (`fast.ai`) [[website](https://course.fast.ai)]\n"
      ]
    },
    {
      "cell_type": "code",
      "metadata": {
        "id": "6WXHYbvZtUGs",
        "colab_type": "code",
        "colab": {}
      },
      "source": [
        "import torch\n",
        "import numpy as np\n",
        "import matplotlib.pyplot as plt"
      ],
      "execution_count": 0,
      "outputs": []
    },
    {
      "cell_type": "markdown",
      "metadata": {
        "id": "EQ3rdhSPbmPv",
        "colab_type": "text"
      },
      "source": [
        "Check for CUDA-enabled GPUs, or else use CPU:"
      ]
    },
    {
      "cell_type": "code",
      "metadata": {
        "id": "LCEACAVza2Sj",
        "colab_type": "code",
        "outputId": "b672b5ce-ad87-4437-b5fc-872691d5e376",
        "colab": {
          "base_uri": "https://localhost:8080/",
          "height": 34
        }
      },
      "source": [
        "if torch.cuda.is_available():\n",
        "  device = torch.device('cuda')\n",
        "else:\n",
        "  device = torch.device(\"cpu\")\n",
        "print(f'Available device: {device}')"
      ],
      "execution_count": 3,
      "outputs": [
        {
          "output_type": "stream",
          "text": [
            "Available device: cuda\n"
          ],
          "name": "stdout"
        }
      ]
    },
    {
      "cell_type": "markdown",
      "metadata": {
        "id": "X-dCe_hl4_5p",
        "colab_type": "text"
      },
      "source": [
        "## Download and Import the Datasets"
      ]
    },
    {
      "cell_type": "code",
      "metadata": {
        "id": "_8BG3qd8uOBP",
        "colab_type": "code",
        "colab": {}
      },
      "source": [
        "from pathlib import Path\n",
        "import requests\n",
        "\n",
        "DATA_PATH = Path(\"data\")\n",
        "PATH = DATA_PATH / \"mnist\"\n",
        "\n",
        "PATH.mkdir(parents=True, exist_ok=True)\n",
        "\n",
        "URL = \"http://deeplearning.net/data/mnist/\"\n",
        "FILENAME = \"mnist.pkl.gz\"\n",
        "\n",
        "if not (PATH / FILENAME).exists():\n",
        "        content = requests.get(URL + FILENAME).content\n",
        "        (PATH / FILENAME).open(\"wb\").write(content)"
      ],
      "execution_count": 0,
      "outputs": []
    },
    {
      "cell_type": "code",
      "metadata": {
        "id": "7GTN9nCrx3s_",
        "colab_type": "code",
        "outputId": "b3a7043a-c103-4fc0-aeaf-8565edba2edd",
        "colab": {
          "base_uri": "https://localhost:8080/",
          "height": 153
        }
      },
      "source": [
        "# Training and testing datasets\n",
        "import pickle\n",
        "import gzip\n",
        "\n",
        "with gzip.open((PATH / FILENAME).as_posix(), \"rb\") as f:\n",
        "        ((x_train, y_train), (x_valid, y_valid), _) = pickle.load(f, encoding=\"latin-1\")\n",
        "\n",
        "# Comvert to torch tensor\n",
        "x_train, y_train, x_valid, y_valid = map(\n",
        "    torch.tensor, (x_train, y_train, x_valid, y_valid)\n",
        ")\n",
        "\n",
        "print(f'Training set\\n# samples : {x_train.shape[0]}\\nx shape : {x_train.shape}',\n",
        "      f'\\ny shape : {y_train.shape}')\n",
        "print(f'\\nValidation set\\n# samples : {x_valid.shape[0]}\\nx shape : {x_valid.shape}')"
      ],
      "execution_count": 5,
      "outputs": [
        {
          "output_type": "stream",
          "text": [
            "Training set\n",
            "# samples : 50000\n",
            "x shape : torch.Size([50000, 784]) \n",
            "y shape : torch.Size([50000])\n",
            "\n",
            "Validation set\n",
            "# samples : 10000\n",
            "x shape : torch.Size([10000, 784])\n"
          ],
          "name": "stdout"
        }
      ]
    },
    {
      "cell_type": "markdown",
      "metadata": {
        "id": "U8tk4ykps7px",
        "colab_type": "text"
      },
      "source": [
        "## Display MNIST Samples from \"Training\" and \"Validation\" Datasets"
      ]
    },
    {
      "cell_type": "markdown",
      "metadata": {
        "id": "_ZycfVz6vo-K",
        "colab_type": "text"
      },
      "source": [
        "* Let's plot some randomly selected examples"
      ]
    },
    {
      "cell_type": "code",
      "metadata": {
        "id": "NNDCP6vQ2p0q",
        "colab_type": "code",
        "outputId": "1e5405a8-b757-4905-b713-2799407d6981",
        "colab": {
          "base_uri": "https://localhost:8080/",
          "height": 34
        }
      },
      "source": [
        "np.random.seed(42)\n",
        "sample_ids = np.random.randint(x_valid.shape[0],size=(5,))\n",
        "print(f'We will plot samples {sample_ids} from \"training\" and \"validation\" datasets.')"
      ],
      "execution_count": 5,
      "outputs": [
        {
          "output_type": "stream",
          "text": [
            "We will plot samples [7270  860 5390 5191 5734] from \"training\" and \"validation\" datasets.\n"
          ],
          "name": "stdout"
        }
      ]
    },
    {
      "cell_type": "code",
      "metadata": {
        "id": "Pjjlsruu18JU",
        "colab_type": "code",
        "outputId": "8094ac5f-6ca0-4497-c260-9ebc8d9da07b",
        "colab": {
          "base_uri": "https://localhost:8080/",
          "height": 133
        }
      },
      "source": [
        "_, axs = plt.subplots(ncols=5,figsize=[7,2])\n",
        "\n",
        "for ax,t in zip(axs,sample_ids):\n",
        "  ax.imshow(x_train[t,:].reshape(28,28),cmap='gray')\n",
        "  ax.set_title(f'Label : {y_train[t]}')\n",
        "  ax.axis(False)\n",
        "plt.suptitle(f'Training dataset (\"x_train\")');\n",
        "plt.show()"
      ],
      "execution_count": 6,
      "outputs": [
        {
          "output_type": "display_data",
          "data": {
            "image/png": "[encoded data removed]",
            "text/plain": [
              "<Figure size 504x144 with 5 Axes>"
            ]
          },
          "metadata": {
            "tags": [],
            "needs_background": "light"
          }
        }
      ]
    },
    {
      "cell_type": "code",
      "metadata": {
        "id": "rDG_sl-708Aq",
        "colab_type": "code",
        "outputId": "0f523fd7-01ef-48b3-ab1f-beb1db6843d0",
        "colab": {
          "base_uri": "https://localhost:8080/",
          "height": 133
        }
      },
      "source": [
        "_, axs = plt.subplots(ncols=5,figsize=[7,2])\n",
        "\n",
        "for ax,t in zip(axs,sample_ids):\n",
        "  ax.imshow(x_valid[t,:].reshape(28,28),cmap='gray')\n",
        "  ax.set_title(f'Label : {y_valid[t]}')\n",
        "  ax.axis(False)\n",
        "plt.suptitle('Validation dataset (\"x_valid\")');\n",
        "plt.show()"
      ],
      "execution_count": 7,
      "outputs": [
        {
          "output_type": "display_data",
          "data": {
            "image/png": "[encoded data removed]",
            "text/plain": [
              "<Figure size 504x144 with 5 Axes>"
            ]
          },
          "metadata": {
            "tags": [],
            "needs_background": "light"
          }
        }
      ]
    },
    {
      "cell_type": "markdown",
      "metadata": {
        "id": "I5ce7GS_FjkH",
        "colab_type": "text"
      },
      "source": [
        "## Converting Labels to One-hot Encoding in Pytorch\n",
        "\n",
        "Although some loss functions can handle labels in their raw form (e.g. $y_i$ = \"1\"), in its general form multiclass classifier requires us to encode target labels (those we provide during the training) into one-hot encoding format. In pytorch, we can use `scatter` function for one-hot encoding MNIST labels.\n",
        "- Technically, all loss functions internally have to represent target and predicted labels as one-hot encoded vectors.\n",
        "- E.g. one-hot encoded labels for digits \"1\" and \"5\" are as follows\n",
        "  - \"1\": `[0, 1, 0, 0, 0, 0, 0, 0, 0, 0]`, and \n",
        "  - \"5\": `[0, 0, 0, 0, 0, 1, 0, 0, 0, 0]`"
      ]
    },
    {
      "cell_type": "code",
      "metadata": {
        "id": "VSE7FQE3CaBd",
        "colab_type": "code",
        "outputId": "5707b6d9-3e01-47ad-a7f5-e9eee4ba1116",
        "colab": {
          "base_uri": "https://localhost:8080/",
          "height": 51
        }
      },
      "source": [
        "y_hot = torch.FloatTensor(2,10) # initialise batch labels (done once outside the for-loop)\n",
        "y_hot.zero_() # set them to zero (for each iter-n)\n",
        "y_hot.scatter_(1,torch.tensor([[1],[4]]),1) # encode labels \"1\" and \"4\"\n",
        "y_hot"
      ],
      "execution_count": 8,
      "outputs": [
        {
          "output_type": "execute_result",
          "data": {
            "text/plain": [
              "tensor([[0., 1., 0., 0., 0., 0., 0., 0., 0., 0.],\n",
              "        [0., 0., 0., 0., 1., 0., 0., 0., 0., 0.]])"
            ]
          },
          "metadata": {
            "tags": []
          },
          "execution_count": 8
        }
      ]
    },
    {
      "cell_type": "code",
      "metadata": {
        "id": "SGHjkJkL_yHf",
        "colab_type": "code",
        "outputId": "b98e0397-769f-4c81-e37a-e93812cb5e04",
        "colab": {
          "base_uri": "https://localhost:8080/",
          "height": 187
        }
      },
      "source": [
        "D_in =  28*28\n",
        "D_out = 10 # number of classes\n",
        "W = torch.zeros((D_in,D_out))\n",
        "b = torch.ones((1,D_out))*.1\n",
        "\n",
        "torch.mm(torch.rand((5,D_in)),W)+b"
      ],
      "execution_count": 9,
      "outputs": [
        {
          "output_type": "execute_result",
          "data": {
            "text/plain": [
              "tensor([[0.1000, 0.1000, 0.1000, 0.1000, 0.1000, 0.1000, 0.1000, 0.1000, 0.1000,\n",
              "         0.1000],\n",
              "        [0.1000, 0.1000, 0.1000, 0.1000, 0.1000, 0.1000, 0.1000, 0.1000, 0.1000,\n",
              "         0.1000],\n",
              "        [0.1000, 0.1000, 0.1000, 0.1000, 0.1000, 0.1000, 0.1000, 0.1000, 0.1000,\n",
              "         0.1000],\n",
              "        [0.1000, 0.1000, 0.1000, 0.1000, 0.1000, 0.1000, 0.1000, 0.1000, 0.1000,\n",
              "         0.1000],\n",
              "        [0.1000, 0.1000, 0.1000, 0.1000, 0.1000, 0.1000, 0.1000, 0.1000, 0.1000,\n",
              "         0.1000]])"
            ]
          },
          "metadata": {
            "tags": []
          },
          "execution_count": 9
        }
      ]
    },
    {
      "cell_type": "markdown",
      "metadata": {
        "id": "VBLRJqWF552q",
        "colab_type": "text"
      },
      "source": [
        "## Softmax Classifier w/o `TORCH.NN`"
      ]
    },
    {
      "cell_type": "markdown",
      "metadata": {
        "id": "NyRPQB815_f1",
        "colab_type": "text"
      },
      "source": [
        "$$C_i = softmax(W\\cdot X_i + b)$$\n",
        "\n",
        "where softmax function with output $C_i\\in \\mathbb{R}^{K}$ , for $K$ classes\n",
        "\n",
        "$$softmax(z_i) = \\frac{e^{z_i}}{\\sum^K_{j=1} e^{z_j}}$$\n",
        "\n",
        "- $X_i$ input (flattened) image, 784x1 array\n",
        "- $C_i$ predicted class of the image (label), e.g. \"4\", $C_i$ is a $K$-dimensional vector (one-hot encoding).\n",
        "- $W\\in\\mathbb{R}^{10\\times784}, b\\in\\mathbb{R}^{10}$ are learnable model parameters\n",
        "[[more about softmax and other classifiers](https://cs231n.github.io/linear-classify/#softmax)] (below we will be using $W^T$ with multiple examples from the dataset $X$, called mini-batch or batch, but otherwise the model definition is equivalent)\n",
        "\n",
        "Same as the tutorial we use $log(C_i)$ (\"log-of-softmax\") in the model. If you want to convert the values into probabilities you need to take exponential of the model output."
      ]
    },
    {
      "cell_type": "markdown",
      "metadata": {
        "id": "pEojiIHjlIBx",
        "colab_type": "text"
      },
      "source": [
        "In [`torch.nn`](https://pytorch.org/tutorials/beginner/nn_tutorial.html) tutorial author uses Xavier initialisation ([Glorot & Bengio 2010](http://proceedings.mlr.press/v9/glorot10a)) for initialising the weights. Since it is a _single layer network_ we could get away with sampling $W_{ij}$ from standard normal or uniform distributions.\n",
        "\n",
        "However, we do need to be careful when we initialise our network parameters. Incorrect initialisation leads to a slower training due to exploding (large $|W_{ij}|$) and/or zero ($W_{ij}\\approx 0$) gradients. This is especially true for deep models, and choice of the initialisation method depends on the activation function.\n",
        "\n",
        "`PyTorch` comes with many initialisation methods already implemented with helpful documentation and usage examples in its [`torch.nn.init`](https://pytorch.org/docs/stable/nn.init.html) module."
      ]
    },
    {
      "cell_type": "markdown",
      "metadata": {
        "id": "MNDsd0DDNuQK",
        "colab_type": "text"
      },
      "source": [
        "### Model Parameters"
      ]
    },
    {
      "cell_type": "markdown",
      "metadata": {
        "id": "nUrK_5ve5VJo",
        "colab_type": "text"
      },
      "source": [
        "- When init-g parameters we need to set `requires_grad` flag of the `pytorch` tensor to `True`. This enables `autograd` to keep track of the gradients w.r.t. the param-s"
      ]
    },
    {
      "cell_type": "code",
      "metadata": {
        "id": "eipCnljD588H",
        "colab_type": "code",
        "outputId": "79c7ee15-44df-4525-a76c-91125adfd140",
        "colab": {
          "base_uri": "https://localhost:8080/",
          "height": 51
        }
      },
      "source": [
        "# Standard normal\n",
        "weights = torch.randn(784, 10).to(device)\n",
        "\n",
        "# With Xavier:\n",
        "# weights = torch.randn(784, 10).to(device)*np.sqrt(2)/np.sqrt(784+10)\n",
        "\n",
        "print(f'weights.requires_grad: {weights.requires_grad}')\n",
        "weights.requires_grad_() #sets requires_grad flag to True\n",
        "print(f'weights.requires_grad: {weights.requires_grad}')"
      ],
      "execution_count": 6,
      "outputs": [
        {
          "output_type": "stream",
          "text": [
            "weights.requires_grad: False\n",
            "weights.requires_grad: True\n"
          ],
          "name": "stdout"
        }
      ]
    },
    {
      "cell_type": "code",
      "metadata": {
        "id": "8KGCw44V6UhT",
        "colab_type": "code",
        "colab": {}
      },
      "source": [
        "#enable grad tracking at tensor init-n\n",
        "bias = torch.zeros(10, requires_grad=True, device=device)"
      ],
      "execution_count": 0,
      "outputs": []
    },
    {
      "cell_type": "markdown",
      "metadata": {
        "id": "LPQKZ7hk7ZHY",
        "colab_type": "text"
      },
      "source": [
        "### Model\n",
        "- Softmax classifier"
      ]
    },
    {
      "cell_type": "code",
      "metadata": {
        "id": "7qVs85cw7Mkt",
        "colab_type": "code",
        "colab": {}
      },
      "source": [
        "def log_softmax(x):\n",
        "  return x - x.exp().sum(-1).log().unsqueeze(-1)\n",
        "\n",
        "def model(xbatch):\n",
        "  return log_softmax(xbatch @ weights + bias)"
      ],
      "execution_count": 0,
      "outputs": []
    },
    {
      "cell_type": "code",
      "metadata": {
        "id": "O_jbFj3xxD0e",
        "colab_type": "code",
        "colab": {}
      },
      "source": [
        "# torch.mm()\n",
        "torch.einsum?"
      ],
      "execution_count": 0,
      "outputs": []
    },
    {
      "cell_type": "code",
      "metadata": {
        "id": "pSrZ3VdG9eTi",
        "colab_type": "code",
        "outputId": "587bf493-d070-433a-9029-d39ebe586beb",
        "colab": {
          "base_uri": "https://localhost:8080/",
          "height": 68
        }
      },
      "source": [
        "bs = 8  # batch size\n",
        "\n",
        "xb = x_train[0:bs].to(device)  # a mini-batch from x\n",
        "preds = model(xb)  # predictions\n",
        "preds[0], preds.shape\n",
        "print(preds[0], preds.shape)"
      ],
      "execution_count": 9,
      "outputs": [
        {
          "output_type": "stream",
          "text": [
            "tensor([-2.0384e+01, -2.4101e+01, -5.9953e+00, -1.8868e+01, -1.6018e+01,\n",
            "        -2.5139e-03, -1.3454e+01, -1.6437e+01, -1.0871e+01, -2.9134e+01],\n",
            "       device='cuda:0', grad_fn=<SelectBackward>) torch.Size([8, 10])\n"
          ],
          "name": "stdout"
        }
      ]
    },
    {
      "cell_type": "markdown",
      "metadata": {
        "id": "joanTU8AEV_Y",
        "colab_type": "text"
      },
      "source": [
        "- Note the `grad_fn` and `device`."
      ]
    },
    {
      "cell_type": "markdown",
      "metadata": {
        "id": "g1iMSJMxBWZK",
        "colab_type": "text"
      },
      "source": [
        "### Loss Function\n",
        "- _negative log-likelihood_ (w/o using one-hot encoding)\n",
        "\n",
        "_See also_ [`torch.nn.NLLLoss`](https://pytorch.org/docs/stable/nn.html#nllloss), and other `torch.nn` [loss functions](https://pytorch.org/docs/stable/nn.html#loss-functions)."
      ]
    },
    {
      "cell_type": "code",
      "metadata": {
        "id": "_veTKM3Z-A67",
        "colab_type": "code",
        "colab": {}
      },
      "source": [
        "def nll(ypred, target):\n",
        "    return -ypred[range(target.shape[0]), target].mean()\n",
        "\n",
        "loss_func = nll"
      ],
      "execution_count": 0,
      "outputs": []
    },
    {
      "cell_type": "code",
      "metadata": {
        "id": "DGOcg9EUAl5w",
        "colab_type": "code",
        "outputId": "af81f457-49a7-4ae1-aa2d-3547f043429c",
        "colab": {
          "base_uri": "https://localhost:8080/",
          "height": 34
        }
      },
      "source": [
        "yb = y_train[0:bs].to(device)\n",
        "print(loss_func(preds, yb))"
      ],
      "execution_count": 13,
      "outputs": [
        {
          "output_type": "stream",
          "text": [
            "tensor(14.9290, device='cuda:0', grad_fn=<NegBackward>)\n"
          ],
          "name": "stdout"
        }
      ]
    },
    {
      "cell_type": "markdown",
      "metadata": {
        "id": "v5b_-v0lIELo",
        "colab_type": "text"
      },
      "source": [
        "- Accuracy"
      ]
    },
    {
      "cell_type": "code",
      "metadata": {
        "id": "nlLmcXUPBFLd",
        "colab_type": "code",
        "colab": {}
      },
      "source": [
        "def accuracy(ypred, ytarget):\n",
        "    preds = torch.argmax(ypred, dim=1)\n",
        "    return (preds == ytarget).float().mean()"
      ],
      "execution_count": 0,
      "outputs": []
    },
    {
      "cell_type": "code",
      "metadata": {
        "id": "1KrLQxA9IDKu",
        "colab_type": "code",
        "outputId": "1c249672-d0d8-4bac-bc61-b870aa08f934",
        "colab": {
          "base_uri": "https://localhost:8080/",
          "height": 34
        }
      },
      "source": [
        "print(accuracy(preds, yb))"
      ],
      "execution_count": 16,
      "outputs": [
        {
          "output_type": "stream",
          "text": [
            "tensor(0.1250, device='cuda:0')\n"
          ],
          "name": "stdout"
        }
      ]
    },
    {
      "cell_type": "markdown",
      "metadata": {
        "id": "2VlDY1UoIU6B",
        "colab_type": "text"
      },
      "source": [
        "Notes on debugging classifiers:\n",
        "- Since we have 10 output classes, even a random model, that guesses outputs randomly, should have roughly 10% accuracy."
      ]
    },
    {
      "cell_type": "markdown",
      "metadata": {
        "id": "xrqwKFLGJcis",
        "colab_type": "text"
      },
      "source": [
        "### Training Loop"
      ]
    },
    {
      "cell_type": "code",
      "metadata": {
        "id": "jf_LxBscINT-",
        "colab_type": "code",
        "colab": {}
      },
      "source": [
        "# from IPython.core.debugger import set_trace\n",
        "\n",
        "# Set gradients to zeros\n",
        "if weights.grad is not None:\n",
        "  weights.grad.zero_()\n",
        "  bias.grad.zero_()\n",
        "\n",
        "bs = 64 # batch size\n",
        "lr = 0.5 # learning rate (step size)\n",
        "\n",
        "epochs = 2  # how many epochs to train for\n",
        "# Epochs: number of times to go through the whole dataset\n",
        "n = x_train.shape[0]\n",
        "\n",
        "for epoch in range(epochs):\n",
        "    for i in range((n - 1) // bs + 1):\n",
        "        # set_trace()\n",
        "        start_i = i * bs\n",
        "        end_i = start_i + bs\n",
        "        xb = x_train[start_i:end_i].to(device)\n",
        "        yb = y_train[start_i:end_i].to(device)\n",
        "        pred = model(xb)\n",
        "        loss = loss_func(pred, yb.to(device))\n",
        "\n",
        "        loss.backward()\n",
        "        with torch.no_grad():\n",
        "            weights -= weights.grad * lr\n",
        "            bias -= bias.grad * lr\n",
        "            weights.grad.zero_()\n",
        "            bias.grad.zero_()"
      ],
      "execution_count": 0,
      "outputs": []
    },
    {
      "cell_type": "code",
      "metadata": {
        "id": "GrIKWHceLpJH",
        "colab_type": "code",
        "outputId": "4287b44b-e164-4681-90d8-e348fa5fa2ed",
        "colab": {
          "base_uri": "https://localhost:8080/",
          "height": 51
        }
      },
      "source": [
        "# Loss/Acc for the latest batch\n",
        "print(f'Loss (NLL): {loss_func(model(xb), yb)}\\n'+\n",
        "      f'Accuracy : {accuracy(model(xb), yb)*100}%')"
      ],
      "execution_count": 18,
      "outputs": [
        {
          "output_type": "stream",
          "text": [
            "Loss (NLL): 0.3240744471549988\n",
            "Accuracy : 93.75%\n"
          ],
          "name": "stdout"
        }
      ]
    },
    {
      "cell_type": "code",
      "metadata": {
        "id": "qA9652mSEKKi",
        "colab_type": "code",
        "colab": {}
      },
      "source": [
        "# What is the average loss and accuracy for the whole training/validation dataset?\n"
      ],
      "execution_count": 0,
      "outputs": []
    },
    {
      "cell_type": "markdown",
      "metadata": {
        "id": "1SmuGzICHt2_",
        "colab_type": "text"
      },
      "source": [
        "What did our linear model learn? Spoiler-- templates."
      ]
    },
    {
      "cell_type": "code",
      "metadata": {
        "id": "HGiSsuk7Cfqs",
        "colab_type": "code",
        "colab": {
          "base_uri": "https://localhost:8080/",
          "height": 276
        },
        "outputId": "e95f9254-0105-4620-c714-b4969882e812"
      },
      "source": [
        "_, axs = plt.subplots(ncols=5,nrows=2,figsize=[10,4])\n",
        "\n",
        "for k,ax in enumerate(axs.ravel()):\n",
        "  Wrow= weights[:,k].detach().cpu().numpy().reshape(28,28)\n",
        "  ax.imshow(Wrow,cmap='magma')\n",
        "  ax.set_title(f'{k}')\n",
        "  ax.axis(False)\n",
        "plt.suptitle('Rows of Weight Matrix (Learned filters)');\n",
        "plt.show()"
      ],
      "execution_count": 19,
      "outputs": [
        {
          "output_type": "display_data",
          "data": {
            "image/png": "[encoded data removed]",
            "text/plain": [
              "<Figure size 720x288 with 10 Axes>"
            ]
          },
          "metadata": {
            "tags": [],
            "needs_background": "light"
          }
        }
      ]
    },
    {
      "cell_type": "markdown",
      "metadata": {
        "id": "ivG0QMcjC3iS",
        "colab_type": "text"
      },
      "source": [
        "Let's train this model a little bit more"
      ]
    },
    {
      "cell_type": "code",
      "metadata": {
        "id": "g7H8Vm92CqkX",
        "colab_type": "code",
        "colab": {}
      },
      "source": [
        "# Set gradients to zeros\n",
        "if weights.grad is not None:\n",
        "  weights.grad.zero_()\n",
        "  bias.grad.zero_()\n",
        "\n",
        "lr = 0.5 # learning rate (step size)\n",
        "\n",
        "epochs = 30  # how many epochs to train for\n",
        "# Epochs: number of times to go through the whole dataset\n",
        "\n",
        "for epoch in range(epochs):\n",
        "    for i in range((n - 1) // bs + 1):\n",
        "        start_i = i * bs\n",
        "        end_i = start_i + bs\n",
        "        xb = x_train[start_i:end_i].to(device)\n",
        "        yb = y_train[start_i:end_i].to(device)\n",
        "        pred = model(xb)\n",
        "        loss = loss_func(pred.to(device), yb.to(device))\n",
        "\n",
        "        loss.backward()\n",
        "        with torch.no_grad():\n",
        "            weights -= weights.grad * lr\n",
        "            bias -= bias.grad * lr\n",
        "            weights.grad.zero_()\n",
        "            bias.grad.zero_()"
      ],
      "execution_count": 0,
      "outputs": []
    },
    {
      "cell_type": "code",
      "metadata": {
        "id": "VOZWRBkRR0j_",
        "colab_type": "code",
        "colab": {
          "base_uri": "https://localhost:8080/",
          "height": 51
        },
        "outputId": "93f29080-b0e5-4f85-e574-4daba3f399d8"
      },
      "source": [
        "print(f'Loss (NLL): {loss_func(model(xb), yb)}\\n'+\n",
        "      f'Accuracy : {accuracy(model(xb), yb)*100}%')"
      ],
      "execution_count": 21,
      "outputs": [
        {
          "output_type": "stream",
          "text": [
            "Loss (NLL): 0.05238625034689903\n",
            "Accuracy : 100.0%\n"
          ],
          "name": "stdout"
        }
      ]
    },
    {
      "cell_type": "code",
      "metadata": {
        "id": "VGWrNJ50POu2",
        "colab_type": "code",
        "outputId": "47a0373e-2374-4885-ada2-bdbfc1c247a8",
        "colab": {
          "base_uri": "https://localhost:8080/",
          "height": 276
        }
      },
      "source": [
        "#after longer training\n",
        "_, axs = plt.subplots(ncols=5,nrows=2,figsize=[10,4])\n",
        "\n",
        "for k,ax in enumerate(axs.ravel()):\n",
        "  Wrow= weights[:,k].detach().cpu().numpy().reshape(28,28)\n",
        "  ax.imshow(Wrow,cmap='magma')\n",
        "  ax.set_title(f'{k}')\n",
        "  ax.axis(False)\n",
        "plt.suptitle('Rows of Weight Matrix (Learned filters) after additional training');\n",
        "plt.show()"
      ],
      "execution_count": 22,
      "outputs": [
        {
          "output_type": "display_data",
          "data": {
            "image/png": "[encoded data removed]",
            "text/plain": [
              "<Figure size 720x288 with 10 Axes>"
            ]
          },
          "metadata": {
            "tags": [],
            "needs_background": "light"
          }
        }
      ]
    },
    {
      "cell_type": "code",
      "metadata": {
        "id": "vKl3GghY1tkQ",
        "colab_type": "code",
        "colab": {}
      },
      "source": [
        "# weights[:,0].detach().reshape(28,28)"
      ],
      "execution_count": 0,
      "outputs": []
    },
    {
      "cell_type": "markdown",
      "metadata": {
        "id": "ZqCAHaU_FUC9",
        "colab_type": "text"
      },
      "source": [
        "You can also try running this code with Xavier init-n. Take note of the loss and acc. for the same conditions."
      ]
    },
    {
      "cell_type": "markdown",
      "metadata": {
        "id": "e92RffX0FyfV",
        "colab_type": "text"
      },
      "source": [
        "## Softmax Classifier with `TORCH.NN`\n"
      ]
    },
    {
      "cell_type": "markdown",
      "metadata": {
        "id": "CoLsEyYhP_td",
        "colab_type": "text"
      },
      "source": [
        "### `nn.functional`: From Loss Functions to Your Own Layer Definitions"
      ]
    },
    {
      "cell_type": "markdown",
      "metadata": {
        "id": "RLPrpEv5Nh0n",
        "colab_type": "text"
      },
      "source": [
        "Here we will simplify our code by using `nn.functional` module (copied from `nn` tutorial)\n",
        "- Loss functions [docs](https://pytorch.org/docs/stable/nn.functional.html#loss-functions)\n",
        "\n",
        "In the code below we will use [cross entropy loss](https://pytorch.org/docs/stable/nn.functional.html#cross-entropy):\n",
        "$$loss(y_{pred},\\mathbf{t}) = -log\\left(\\frac{exp(y_{pred}[\\mathbf{t}])}{\\sum_j exp(y_{pred}[j])}\\right)$$\n",
        "Since `nn.functional.cross_entropy` combines `log_softmax` and `nll_loss`, we will have to re-write our model (we no longer need the \"log-softmax\" in the model, now it's moved to the loss function).\n",
        "\n",
        "`nn.functional` also provides wide range of filters and functions, e.g.:\n",
        "- Convolutional filters [[docs](https://pytorch.org/docs/stable/nn.functional.html#torch.nn.functional.conv2d)]\n",
        "- Dropout functions [[docs](https://pytorch.org/docs/stable/nn.functional.html#dropout-functions)]\n",
        "- Functions for working with images [[docs](https://pytorch.org/docs/stable/nn.functional.html#vision-functions)]\n",
        "- and more!\n",
        "\n",
        "_These functions can be used when you want to define your own more complex function or neural network layers._"
      ]
    },
    {
      "cell_type": "code",
      "metadata": {
        "id": "ONkNCj-1NW7G",
        "colab_type": "code",
        "colab": {}
      },
      "source": [
        "import torch.nn.functional as F\n",
        "\n",
        "loss_func = F.cross_entropy\n",
        "\n",
        "def model(xb):\n",
        "    return xb @ weights + bias # no log-softmax"
      ],
      "execution_count": 0,
      "outputs": []
    },
    {
      "cell_type": "markdown",
      "metadata": {
        "id": "bsTAM9Z8R4Em",
        "colab_type": "text"
      },
      "source": [
        "The loss value should be the same as before"
      ]
    },
    {
      "cell_type": "code",
      "metadata": {
        "id": "t4MwM6B3RjqH",
        "colab_type": "code",
        "colab": {
          "base_uri": "https://localhost:8080/",
          "height": 51
        },
        "outputId": "378c0ef5-22d8-4ded-a268-c81565f5f5cd"
      },
      "source": [
        "print(f'Loss (NLL): {loss_func(model(xb), yb)}\\n'+\n",
        "      f'Accuracy : {accuracy(model(xb), yb)*100}%')"
      ],
      "execution_count": 26,
      "outputs": [
        {
          "output_type": "stream",
          "text": [
            "Loss (NLL): 0.052386246621608734\n",
            "Accuracy : 100.0%\n"
          ],
          "name": "stdout"
        }
      ]
    },
    {
      "cell_type": "markdown",
      "metadata": {
        "id": "kA5_QCXnWz_2",
        "colab_type": "text"
      },
      "source": [
        "### `nn.Module`: Base Class for Higher-level Layer and Model Definitions\n",
        "\n"
      ]
    },
    {
      "cell_type": "markdown",
      "metadata": {
        "id": "VSDuG3PuYwzK",
        "colab_type": "text"
      },
      "source": [
        "Although you could directly define shallow models with [`torch.nn.Sequential`](https://pytorch.org/docs/stable/nn.html#sequential) (or similar `nn` classes called [containers](https://pytorch.org/docs/stable/nn.html#containers), e.g. \"module list\"), for more complex models it is more convenient to inherent from `nn.Module` base-class (also a container) and define complex layers and models. E.g.\n",
        "```python\n",
        "class Special_Layer(nn.Module):\n",
        "  # you can use other containers here\n",
        "  ...\n",
        "```\n",
        "> and then use this layer in another layer or model:\n",
        "\n",
        "```python\n",
        "class My_Model(nn.Module):\n",
        "  def __init__(self):\n",
        "    super(Model, self).__init__()\n",
        "    # some layer definitions\n",
        "    self.special = Special_Layer(layer_params)\n",
        "    ...\n",
        "  def forward(self, x):\n",
        "    x = F.relu(self.special(x))\n",
        "    ...\n",
        "    return x\n",
        "```"
      ]
    },
    {
      "cell_type": "markdown",
      "metadata": {
        "id": "VO5GsrtlfJSv",
        "colab_type": "text"
      },
      "source": [
        "We need to convert our `weights` and `bias` param-s into `nn.Parameter` tensor. `Parameter` tensor allows `nn.Module` to automatically keep track of the model param-s (as long as they are `Module` attributes) and can be used with `nn.Module` convenience functions such as [`self.parameters()`](https://pytorch.org/docs/stable/nn.html#torch.nn.Module.parameters). This allows us to keep temporary variables in the model w/o registering them as `Parameter` tensor."
      ]
    },
    {
      "cell_type": "code",
      "metadata": {
        "id": "2m5wJcVYRm5e",
        "colab_type": "code",
        "colab": {}
      },
      "source": [
        "from torch import nn\n",
        "\n",
        "class Mnist_Logistic(nn.Module):\n",
        "    def __init__(self):\n",
        "        super().__init__()\n",
        "        # Xavier init-n:\n",
        "        self.weights = nn.Parameter(torch.randn(784, 10).to(device)*np.sqrt(2)/np.sqrt(784+10))\n",
        "        # try init-n bias to -0.1 and observe what happens to the loss\n",
        "        self.bias = nn.Parameter(torch.zeros(10).to(device))\n",
        "\n",
        "    def forward(self, xb):\n",
        "        return xb @ self.weights + self.bias"
      ],
      "execution_count": 0,
      "outputs": []
    },
    {
      "cell_type": "code",
      "metadata": {
        "id": "J9JNC1fwhZr0",
        "colab_type": "code",
        "colab": {
          "base_uri": "https://localhost:8080/",
          "height": 204
        },
        "outputId": "6303f71a-9b34-4a27-d376-959e6cb69f47"
      },
      "source": [
        "model = Mnist_Logistic()\n",
        "list(model.parameters())"
      ],
      "execution_count": 28,
      "outputs": [
        {
          "output_type": "execute_result",
          "data": {
            "text/plain": [
              "[Parameter containing:\n",
              " tensor([[ 0.0274,  0.0393, -0.0404,  ..., -0.0749,  0.0421, -0.0576],\n",
              "         [ 0.0070, -0.0412,  0.0207,  ..., -0.0057,  0.0079, -0.0246],\n",
              "         [ 0.0235,  0.0173, -0.0268,  ..., -0.0686, -0.0612, -0.0813],\n",
              "         ...,\n",
              "         [-0.0060,  0.0022,  0.0211,  ..., -0.0999,  0.0655,  0.0400],\n",
              "         [-0.0181,  0.0149, -0.0939,  ...,  0.0120,  0.0224,  0.0426],\n",
              "         [ 0.0015, -0.0003, -0.0615,  ..., -0.0113, -0.0243,  0.0162]],\n",
              "        device='cuda:0', requires_grad=True), Parameter containing:\n",
              " tensor([0., 0., 0., 0., 0., 0., 0., 0., 0., 0.], device='cuda:0',\n",
              "        requires_grad=True)]"
            ]
          },
          "metadata": {
            "tags": []
          },
          "execution_count": 28
        }
      ]
    },
    {
      "cell_type": "code",
      "metadata": {
        "id": "Pmnf4KJvhxmj",
        "colab_type": "code",
        "colab": {
          "base_uri": "https://localhost:8080/",
          "height": 51
        },
        "outputId": "33fcbee6-203f-4b29-d7de-6c92ab13e265"
      },
      "source": [
        "print(f'Loss (NLL): {loss_func(model(xb), yb)}\\n'+\n",
        "      f'Accuracy : {accuracy(model(xb), yb)*100}%')"
      ],
      "execution_count": 29,
      "outputs": [
        {
          "output_type": "stream",
          "text": [
            "Loss (NLL): 2.272608518600464\n",
            "Accuracy : 6.25%\n"
          ],
          "name": "stdout"
        }
      ]
    },
    {
      "cell_type": "markdown",
      "metadata": {
        "id": "HufbGWUxi9Es",
        "colab_type": "text"
      },
      "source": [
        "As suggested in the `nn` tutorial we wrap our training loop into `fit()` funct-n"
      ]
    },
    {
      "cell_type": "code",
      "metadata": {
        "id": "COo7mVuXiCci",
        "colab_type": "code",
        "colab": {}
      },
      "source": [
        "def fit(epochs = 2):\n",
        "    for epoch in range(epochs):\n",
        "        for i in range((n - 1) // bs + 1):\n",
        "            start_i = i * bs\n",
        "            end_i = start_i + bs\n",
        "            xb = x_train[start_i:end_i].to(device)\n",
        "            yb = y_train[start_i:end_i].to(device)\n",
        "            pred = model(xb)\n",
        "            loss = loss_func(pred, yb)\n",
        "\n",
        "            loss.backward()\n",
        "            with torch.no_grad():\n",
        "                for p in model.parameters():\n",
        "                    p -= p.grad * lr\n",
        "                model.zero_grad()\n",
        "\n",
        "fit()"
      ],
      "execution_count": 0,
      "outputs": []
    },
    {
      "cell_type": "code",
      "metadata": {
        "id": "tI952AnnjYcY",
        "colab_type": "code",
        "colab": {
          "base_uri": "https://localhost:8080/",
          "height": 51
        },
        "outputId": "cc9caae0-bc3d-4607-c86d-426227d513e5"
      },
      "source": [
        "print(f'Loss (NLL): {loss_func(model(xb), yb)}\\n'+\n",
        "      f'Accuracy : {accuracy(model(xb), yb)*100}%')"
      ],
      "execution_count": 31,
      "outputs": [
        {
          "output_type": "stream",
          "text": [
            "Loss (NLL): 0.07915383577346802\n",
            "Accuracy : 100.0%\n"
          ],
          "name": "stdout"
        }
      ]
    },
    {
      "cell_type": "markdown",
      "metadata": {
        "id": "KZIYWZN4jlsj",
        "colab_type": "text"
      },
      "source": [
        "### `nn.Linear` and Friends"
      ]
    },
    {
      "cell_type": "markdown",
      "metadata": {
        "id": "cNfBGv60jx5u",
        "colab_type": "text"
      },
      "source": [
        "[`nn.Linear`](https://pytorch.org/docs/stable/nn.html#linear) implements our linear model $y=Wx+b$ with param-s $W$ and $b$ (already a `Parameter` tensor).\n",
        "\n",
        "_See also_ [convolutional layers](https://pytorch.org/docs/stable/nn.html#convolution-layers), and [pooling layers](https://pytorch.org/docs/stable/nn.html#pooling-layers)."
      ]
    },
    {
      "cell_type": "code",
      "metadata": {
        "id": "B4phXmkujcG8",
        "colab_type": "code",
        "colab": {}
      },
      "source": [
        "class Mnist_Logistic(nn.Module):\n",
        "    def __init__(self):\n",
        "        super().__init__()\n",
        "        self.lin = nn.Linear(784, 10)\n",
        "\n",
        "    def forward(self, xb):\n",
        "        return self.lin(xb)"
      ],
      "execution_count": 0,
      "outputs": []
    },
    {
      "cell_type": "code",
      "metadata": {
        "id": "X64nNVLdkvS1",
        "colab_type": "code",
        "colab": {
          "base_uri": "https://localhost:8080/",
          "height": 204
        },
        "outputId": "1d5067e5-dab7-414b-b2fa-a784749c44af"
      },
      "source": [
        "model = Mnist_Logistic().to(device)\n",
        "# note that by moving the model we moved its param-s:\n",
        "list(model.parameters())"
      ],
      "execution_count": 33,
      "outputs": [
        {
          "output_type": "execute_result",
          "data": {
            "text/plain": [
              "[Parameter containing:\n",
              " tensor([[ 0.0174, -0.0271, -0.0233,  ...,  0.0158,  0.0354,  0.0153],\n",
              "         [ 0.0121, -0.0251,  0.0212,  ...,  0.0160, -0.0183, -0.0316],\n",
              "         [-0.0251,  0.0233,  0.0177,  ..., -0.0165, -0.0266,  0.0247],\n",
              "         ...,\n",
              "         [ 0.0016,  0.0095,  0.0278,  ...,  0.0188, -0.0160, -0.0241],\n",
              "         [-0.0146, -0.0035, -0.0338,  ..., -0.0073,  0.0137,  0.0313],\n",
              "         [-0.0343, -0.0054,  0.0106,  ...,  0.0290, -0.0090, -0.0071]],\n",
              "        device='cuda:0', requires_grad=True), Parameter containing:\n",
              " tensor([ 0.0116,  0.0260,  0.0140, -0.0009,  0.0118,  0.0312,  0.0258,  0.0156,\n",
              "         -0.0288, -0.0080], device='cuda:0', requires_grad=True)]"
            ]
          },
          "metadata": {
            "tags": []
          },
          "execution_count": 33
        }
      ]
    },
    {
      "cell_type": "code",
      "metadata": {
        "id": "lznygAlrk0GB",
        "colab_type": "code",
        "colab": {
          "base_uri": "https://localhost:8080/",
          "height": 68
        },
        "outputId": "6afee1fb-c9bd-4732-c90c-e05241da2a3e"
      },
      "source": [
        "model"
      ],
      "execution_count": 34,
      "outputs": [
        {
          "output_type": "execute_result",
          "data": {
            "text/plain": [
              "Mnist_Logistic(\n",
              "  (lin): Linear(in_features=784, out_features=10, bias=True)\n",
              ")"
            ]
          },
          "metadata": {
            "tags": []
          },
          "execution_count": 34
        }
      ]
    },
    {
      "cell_type": "code",
      "metadata": {
        "id": "jJEYeChAk1ZM",
        "colab_type": "code",
        "colab": {
          "base_uri": "https://localhost:8080/",
          "height": 51
        },
        "outputId": "df1529fb-afa6-44c2-a96e-0bfa7dc06091"
      },
      "source": [
        "print(f'Loss (NLL): {loss_func(model(xb), yb)}\\n'+\n",
        "      f'Accuracy : {accuracy(model(xb), yb)*100}%')"
      ],
      "execution_count": 35,
      "outputs": [
        {
          "output_type": "stream",
          "text": [
            "Loss (NLL): 2.329702377319336\n",
            "Accuracy : 0.0%\n"
          ],
          "name": "stdout"
        }
      ]
    },
    {
      "cell_type": "code",
      "metadata": {
        "id": "vT6h85GEk6uU",
        "colab_type": "code",
        "colab": {}
      },
      "source": [
        "fit()"
      ],
      "execution_count": 0,
      "outputs": []
    },
    {
      "cell_type": "code",
      "metadata": {
        "id": "p0j0rj70lK0M",
        "colab_type": "code",
        "colab": {
          "base_uri": "https://localhost:8080/",
          "height": 51
        },
        "outputId": "a35eefb9-ebcc-4853-96b9-c39f10d74270"
      },
      "source": [
        "print(f'Loss (NLL): {loss_func(model(xb), yb)}\\n'+\n",
        "      f'Accuracy : {accuracy(model(xb), yb)*100}%')"
      ],
      "execution_count": 37,
      "outputs": [
        {
          "output_type": "stream",
          "text": [
            "Loss (NLL): 0.08112609386444092\n",
            "Accuracy : 100.0%\n"
          ],
          "name": "stdout"
        }
      ]
    },
    {
      "cell_type": "markdown",
      "metadata": {
        "id": "XGN5RP6ylwly",
        "colab_type": "text"
      },
      "source": [
        "### `torch.optim`\n",
        "\n",
        "[docs](https://pytorch.org/docs/stable/optim.html#module-torch.optim)"
      ]
    },
    {
      "cell_type": "code",
      "metadata": {
        "id": "Ik2iREeXlN_y",
        "colab_type": "code",
        "colab": {}
      },
      "source": [
        "from torch import optim"
      ],
      "execution_count": 0,
      "outputs": []
    },
    {
      "cell_type": "code",
      "metadata": {
        "id": "ncKEGdZtmkBp",
        "colab_type": "code",
        "colab": {}
      },
      "source": [
        "lr = 0.5\n",
        "bs = 64\n",
        "epochs = 2"
      ],
      "execution_count": 0,
      "outputs": []
    },
    {
      "cell_type": "code",
      "metadata": {
        "id": "F3aLHvb7ly38",
        "colab_type": "code",
        "colab": {
          "base_uri": "https://localhost:8080/",
          "height": 51
        },
        "outputId": "46c53309-89f9-4bd1-969f-4594e9bbf446"
      },
      "source": [
        "def get_model():\n",
        "    model = Mnist_Logistic().to(device)\n",
        "    return model, optim.SGD(model.parameters(), lr=lr)\n",
        "\n",
        "model, opt = get_model()\n",
        "print(f'Loss (NLL): {loss_func(model(xb), yb)}\\n'+\n",
        "      f'Accuracy : {accuracy(model(xb), yb)*100}%')"
      ],
      "execution_count": 40,
      "outputs": [
        {
          "output_type": "stream",
          "text": [
            "Loss (NLL): 2.2960867881774902\n",
            "Accuracy : 12.5%\n"
          ],
          "name": "stdout"
        }
      ]
    },
    {
      "cell_type": "code",
      "metadata": {
        "id": "FGhkaaK6mWDo",
        "colab_type": "code",
        "colab": {
          "base_uri": "https://localhost:8080/",
          "height": 51
        },
        "outputId": "8f2ae5c1-5a20-42e2-a06f-db53f214658a"
      },
      "source": [
        "for epoch in range(epochs):\n",
        "    for i in range((n - 1) // bs + 1):\n",
        "        start_i = i * bs\n",
        "        end_i = start_i + bs\n",
        "        xb = x_train[start_i:end_i].to(device)\n",
        "        yb = y_train[start_i:end_i].to(device)\n",
        "        pred = model(xb)\n",
        "        loss = loss_func(pred, yb)\n",
        "\n",
        "        loss.backward()\n",
        "        opt.step()\n",
        "        opt.zero_grad()\n",
        "\n",
        "print(f'Loss (NLL): {loss_func(model(xb), yb)}\\n'+\n",
        "      f'Accuracy : {accuracy(model(xb), yb)*100}%')"
      ],
      "execution_count": 41,
      "outputs": [
        {
          "output_type": "stream",
          "text": [
            "Loss (NLL): 0.08157950639724731\n",
            "Accuracy : 100.0%\n"
          ],
          "name": "stdout"
        }
      ]
    },
    {
      "cell_type": "code",
      "metadata": {
        "id": "m15u4oMx8GIv",
        "colab_type": "code",
        "colab": {
          "base_uri": "https://localhost:8080/",
          "height": 34
        },
        "outputId": "27da7d89-351f-4f7f-fa5e-0c30e3d00506"
      },
      "source": [
        "epochs"
      ],
      "execution_count": 45,
      "outputs": [
        {
          "output_type": "execute_result",
          "data": {
            "text/plain": [
              "2"
            ]
          },
          "metadata": {
            "tags": []
          },
          "execution_count": 45
        }
      ]
    },
    {
      "cell_type": "code",
      "metadata": {
        "id": "7UCK42mumfWn",
        "colab_type": "code",
        "colab": {}
      },
      "source": [
        "W_trained = list(model.parameters())[0].detach().cpu().numpy()"
      ],
      "execution_count": 0,
      "outputs": []
    },
    {
      "cell_type": "code",
      "metadata": {
        "id": "FglcGLKVnbsc",
        "colab_type": "code",
        "colab": {
          "base_uri": "https://localhost:8080/",
          "height": 34
        },
        "outputId": "65eec26e-7f75-40f2-d2fa-ebb6028acc98"
      },
      "source": [
        "W_trained.shape"
      ],
      "execution_count": 43,
      "outputs": [
        {
          "output_type": "execute_result",
          "data": {
            "text/plain": [
              "(10, 784)"
            ]
          },
          "metadata": {
            "tags": []
          },
          "execution_count": 43
        }
      ]
    },
    {
      "cell_type": "code",
      "metadata": {
        "id": "8sGFrpbjm2vF",
        "colab_type": "code",
        "colab": {
          "base_uri": "https://localhost:8080/",
          "height": 276
        },
        "outputId": "c3ba7630-65bd-417c-d411-927b9c32edc2"
      },
      "source": [
        "_, axs = plt.subplots(ncols=5,nrows=2,figsize=[10,4])\n",
        "\n",
        "for k,ax in enumerate(axs.ravel()):\n",
        "  Wrow= W_trained[k,:].reshape(28,28)\n",
        "  ax.imshow(Wrow,cmap='magma')\n",
        "  ax.set_title(f'{k}')\n",
        "  ax.axis(False)\n",
        "plt.suptitle('Rows of Weight Matrix (Learned filters) after additional training');\n",
        "plt.show()"
      ],
      "execution_count": 44,
      "outputs": [
        {
          "output_type": "display_data",
          "data": {
            "image/png": "[encoded data removed]",
            "text/plain": [
              "<Figure size 720x288 with 10 Axes>"
            ]
          },
          "metadata": {
            "tags": [],
            "needs_background": "light"
          }
        }
      ]
    },
    {
      "cell_type": "code",
      "metadata": {
        "id": "sutSdk83nYrN",
        "colab_type": "code",
        "colab": {}
      },
      "source": [
        ""
      ],
      "execution_count": 0,
      "outputs": []
    }
  ]
}